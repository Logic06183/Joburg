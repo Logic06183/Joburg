{
  "cells": [
    {
      "cell_type": "markdown",
      "metadata": {
        "id": "1zzxG8IH22vK"
      },
      "source": [
        "## 0. License and Disclaimer\n",
        "\n",
        "Copyright 2024 DeepMind Technologies Limited\n",
        "\n",
        "Except as set out above in the \"Images ResNet\"\n",
        "and \"Time series ResNet\" sections, all software is licensed under the Apache License, Version 2.0 (Apache 2.0); you may not use this file except in compliance with the Apache 2.0 license. You may obtain a copy of the Apache 2.0 license at:\n",
        "\n",
        "https://www.apache.org/licenses/LICENSE-2.0\n",
        "\n",
        "All other materials are licensed under the Creative Commons Attribution 4.0 International License (CC-BY). You may obtain a copy of the CC-BY license at:\n",
        "\n",
        "https://creativecommons.org/licenses/by/4.0/legalcode\n",
        "\n",
        "Unless required by applicable law or agreed to in writing, all software and materials distributed here under the Apache 2.0 or CC-BY licenses are distributed on an \"AS IS\" BASIS, WITHOUT WARRANTIES OR CONDITIONS OF ANY KIND, either express or implied. See the licenses for the specific language governing permissions and limitations under those licenses.\n",
        "\n",
        "This is not an official Google product.\n"
      ]
    },
    {
      "cell_type": "markdown",
      "metadata": {
        "id": "wrBB3esffjLC"
      },
      "source": [
        "## 1. Intro\n",
        "\n",
        "### Welcome to the tutorial for the [Inundata: Mapping Floods in South Africa Challenge](https://zindi.africa/competitions/inundata-mapping-floods-in-south-africa)!\n",
        "\n",
        "In this notebook, we'll be taking you through an explanation of the challenge, dataset, and an example approach for building a model that can identify if a flood took place in a region and when.\n",
        "\n",
        "The goal of this challenge is to develop a machine learning model capable of identifying the specific day in which an urban flash flood occurred. This will then help to build a historical catalogue of flood events."
      ]
    },
    {
      "cell_type": "markdown",
      "metadata": {
        "id": "I6n7LfAkgsK3"
      },
      "source": [
        "<a name=\"Dataset\"></a>\n",
        "## 2. Dataset overview\n",
        "\n",
        "For this challenge we have gathered data for different locations in South Africa, each location correspond to an event_id.\n",
        "\n",
        "For each event_id the dataset provided consists of:\n",
        " ,\n",
        "\n",
        "*   Rainfall values stored in `train.csv` file\n",
        "*   Satellite images obtained by Sentinel-2 for five different wavelengths, which correspond to different colours, stored in `composite_images.npz`.\n",
        "* Slope images obtained from NASA topography mission (SRTM) stored in `composite_images.npz`.\n",
        "\n",
        "\n",
        "\n",
        "`test.csv` contains the test set, consisting of 181041 time steps to label as flooded or not flooded, corresponding to 248 events. Note that as output we ask you to return the probability of that event being a flooded event.\n",
        "\n"
      ]
    },
    {
      "cell_type": "markdown",
      "metadata": {
        "id": "7hDAjAMzh55Q"
      },
      "source": [
        "<a name=\"Exploration\"></a>\n",
        "## 3. Data exploration"
      ]
    },
    {
      "cell_type": "markdown",
      "metadata": {
        "id": "UzLHGrw_h7rm"
      },
      "source": [
        "Next, we can load the train and test datasets and look at some of the images."
      ]
    },
    {
      "cell_type": "markdown",
      "metadata": {
        "id": "NzFiATB_fT_L"
      },
      "source": [
        "First let's intall a set of tools and import some packages."
      ]
    },
    {
      "cell_type": "code",
      "execution_count": 1,
      "metadata": {
        "id": "s6b9Nsh1UciH"
      },
      "outputs": [],
      "source": [
        "# !pip install -q ml-collections scikit-image flax jax jaxlib\n",
        "!pip install -q scikit-image flax jax jaxlib"
      ]
    },
    {
      "cell_type": "code",
      "execution_count": 2,
      "metadata": {
        "id": "Enz4IBgMiUKJ"
      },
      "outputs": [
        {
          "name": "stderr",
          "output_type": "stream",
          "text": [
            "c:\\Users\\CraigParker\\anaconda3\\Lib\\site-packages\\paramiko\\transport.py:219: CryptographyDeprecationWarning: Blowfish has been deprecated and will be removed in a future release\n",
            "  \"class\": algorithms.Blowfish,\n"
          ]
        },
        {
          "name": "stdout",
          "output_type": "stream",
          "text": [
            "Note: you may need to restart the kernel to use updated packages.\n"
          ]
        },
        {
          "name": "stderr",
          "output_type": "stream",
          "text": [
            "ERROR: Could not find a version that satisfies the requirement google-colab (from versions: none)\n",
            "ERROR: No matching distribution found for google-colab\n"
          ]
        },
        {
          "name": "stdout",
          "output_type": "stream",
          "text": [
            "Requirement already satisfied: tensorflow_datasets in c:\\users\\craigparker\\anaconda3\\lib\\site-packages (4.9.7)\n",
            "Requirement already satisfied: absl-py in c:\\users\\craigparker\\anaconda3\\lib\\site-packages (from tensorflow_datasets) (2.1.0)\n",
            "Requirement already satisfied: click in c:\\users\\craigparker\\anaconda3\\lib\\site-packages (from tensorflow_datasets) (8.1.7)\n",
            "Requirement already satisfied: dm-tree in c:\\users\\craigparker\\anaconda3\\lib\\site-packages (from tensorflow_datasets) (0.1.8)\n",
            "Requirement already satisfied: immutabledict in c:\\users\\craigparker\\anaconda3\\lib\\site-packages (from tensorflow_datasets) (4.2.0)\n",
            "Requirement already satisfied: numpy in c:\\users\\craigparker\\anaconda3\\lib\\site-packages (from tensorflow_datasets) (1.26.4)\n",
            "Requirement already satisfied: promise in c:\\users\\craigparker\\anaconda3\\lib\\site-packages (from tensorflow_datasets) (2.3)\n",
            "Requirement already satisfied: protobuf>=3.20 in c:\\users\\craigparker\\anaconda3\\lib\\site-packages (from tensorflow_datasets) (4.25.5)\n",
            "Requirement already satisfied: psutil in c:\\users\\craigparker\\anaconda3\\lib\\site-packages (from tensorflow_datasets) (5.9.0)\n",
            "Requirement already satisfied: pyarrow in c:\\users\\craigparker\\anaconda3\\lib\\site-packages (from tensorflow_datasets) (14.0.2)\n",
            "Requirement already satisfied: requests>=2.19.0 in c:\\users\\craigparker\\anaconda3\\lib\\site-packages (from tensorflow_datasets) (2.31.0)\n",
            "Requirement already satisfied: simple-parsing in c:\\users\\craigparker\\anaconda3\\lib\\site-packages (from tensorflow_datasets) (0.1.6)\n",
            "Requirement already satisfied: tensorflow-metadata in c:\\users\\craigparker\\anaconda3\\lib\\site-packages (from tensorflow_datasets) (1.16.1)\n",
            "Requirement already satisfied: termcolor in c:\\users\\craigparker\\anaconda3\\lib\\site-packages (from tensorflow_datasets) (2.5.0)\n",
            "Requirement already satisfied: toml in c:\\users\\craigparker\\anaconda3\\lib\\site-packages (from tensorflow_datasets) (0.10.2)\n",
            "Requirement already satisfied: tqdm in c:\\users\\craigparker\\anaconda3\\lib\\site-packages (from tensorflow_datasets) (4.65.0)\n",
            "Requirement already satisfied: wrapt in c:\\users\\craigparker\\anaconda3\\lib\\site-packages (from tensorflow_datasets) (1.14.1)\n",
            "Requirement already satisfied: etils>=1.9.1 in c:\\users\\craigparker\\anaconda3\\lib\\site-packages (from etils[edc,enp,epath,epy,etree]>=1.9.1; python_version >= \"3.11\"->tensorflow_datasets) (1.11.0)\n",
            "Requirement already satisfied: fsspec in c:\\users\\craigparker\\anaconda3\\lib\\site-packages (from etils[edc,enp,epath,epy,etree]>=1.9.1; python_version >= \"3.11\"->tensorflow_datasets) (2023.10.0)\n",
            "Requirement already satisfied: importlib_resources in c:\\users\\craigparker\\anaconda3\\lib\\site-packages (from etils[edc,enp,epath,epy,etree]>=1.9.1; python_version >= \"3.11\"->tensorflow_datasets) (6.4.3)\n",
            "Requirement already satisfied: typing_extensions in c:\\users\\craigparker\\anaconda3\\lib\\site-packages (from etils[edc,enp,epath,epy,etree]>=1.9.1; python_version >= \"3.11\"->tensorflow_datasets) (4.12.2)\n",
            "Requirement already satisfied: zipp in c:\\users\\craigparker\\anaconda3\\lib\\site-packages (from etils[edc,enp,epath,epy,etree]>=1.9.1; python_version >= \"3.11\"->tensorflow_datasets) (3.17.0)\n",
            "Requirement already satisfied: charset-normalizer<4,>=2 in c:\\users\\craigparker\\anaconda3\\lib\\site-packages (from requests>=2.19.0->tensorflow_datasets) (2.0.4)\n",
            "Requirement already satisfied: idna<4,>=2.5 in c:\\users\\craigparker\\anaconda3\\lib\\site-packages (from requests>=2.19.0->tensorflow_datasets) (3.4)\n",
            "Requirement already satisfied: urllib3<3,>=1.21.1 in c:\\users\\craigparker\\anaconda3\\lib\\site-packages (from requests>=2.19.0->tensorflow_datasets) (2.0.7)\n",
            "Requirement already satisfied: certifi>=2017.4.17 in c:\\users\\craigparker\\anaconda3\\lib\\site-packages (from requests>=2.19.0->tensorflow_datasets) (2024.12.14)\n",
            "Requirement already satisfied: colorama in c:\\users\\craigparker\\anaconda3\\lib\\site-packages (from click->tensorflow_datasets) (0.4.6)\n",
            "Requirement already satisfied: six in c:\\users\\craigparker\\anaconda3\\lib\\site-packages (from promise->tensorflow_datasets) (1.16.0)\n",
            "Requirement already satisfied: docstring-parser<1.0,>=0.15 in c:\\users\\craigparker\\anaconda3\\lib\\site-packages (from simple-parsing->tensorflow_datasets) (0.16)\n",
            "Requirement already satisfied: googleapis-common-protos<2,>=1.56.4 in c:\\users\\craigparker\\anaconda3\\lib\\site-packages (from tensorflow-metadata->tensorflow_datasets) (1.63.2)\n",
            "Note: you may need to restart the kernel to use updated packages.\n",
            "google.colab module not found. Running outside of Google Colab.\n"
          ]
        }
      ],
      "source": [
        "# @title Imports\n",
        "\n",
        "import collections\n",
        "from collections.abc import Callable, Sequence\n",
        "from concurrent import futures\n",
        "from datetime import datetime\n",
        "from functools import partial\n",
        "import math\n",
        "import multiprocessing\n",
        "import os\n",
        "from typing import Any\n",
        "\n",
        "import flax\n",
        "from flax import linen as nn\n",
        "from flax.metrics import tensorboard\n",
        "from flax.training import train_state\n",
        "import jax\n",
        "import jax.numpy as jnp\n",
        "from matplotlib import pyplot as plt\n",
        "import matplotlib.patheffects as pe\n",
        "import numpy as np\n",
        "import optax\n",
        "import pandas as pd\n",
        "from PIL import Image\n",
        "import scipy\n",
        "import seaborn as sns\n",
        "import skimage as ski\n",
        "from tqdm.notebook import tqdm\n",
        "\n",
        "# Install missing package\n",
        "%pip install google-colab\n",
        "%pip install tensorflow_datasets\n",
        "\n",
        "import tensorflow_datasets as tfds\n",
        "\n",
        "try:\n",
        "    from google.colab import drive\n",
        "    drive.mount('/content/drive')\n",
        "    from google.colab import widgets\n",
        "except ModuleNotFoundError:\n",
        "    print(\"google.colab module not found. Running outside of Google Colab.\")\n"
      ]
    },
    {
      "cell_type": "markdown",
      "metadata": {
        "id": "ruI52-zz33PN"
      },
      "source": [
        "You can download the data from the Zindi competition link and store in your drive folder. Then, upload it to this colab or add a shortcut to your Drive folder."
      ]
    },
    {
      "cell_type": "code",
      "execution_count": 3,
      "metadata": {
        "id": "qtUH9hKvU-hU"
      },
      "outputs": [],
      "source": [
        "# Replace this path with your path\n",
        "BASE_PATH = r'C:\\Users\\CraigParker\\OneDrive - Wits Health Consortium\\PHR PC\\Downloads\\Joburg\\Zindi_comp'  # Since files are directly in the Zindi_comp folder"
      ]
    },
    {
      "cell_type": "markdown",
      "metadata": {
        "id": "ujfd2waDA023"
      },
      "source": [
        "### Load precipitation data\n"
      ]
    },
    {
      "cell_type": "markdown",
      "metadata": {
        "id": "DU2SfRNxVfD2"
      },
      "source": [
        "Load the precipitation training and test sets.\n",
        "\n",
        "We also create columns to identify events, both by ID (`event_id`) and numerical index (`event_idx`). An event represents a particular location for which precipitation was measured.\n",
        "\n",
        "Lastly, we generate a numerical index of time steps within each event (`event_t`)"
      ]
    },
    {
      "cell_type": "code",
      "execution_count": 4,
      "metadata": {
        "colab": {
          "base_uri": "https://localhost:8080/"
        },
        "id": "K4VF2361VYd_",
        "outputId": "96816f81-6fac-4688-91a2-40b5d0ca4516"
      },
      "outputs": [
        {
          "name": "stdout",
          "output_type": "stream",
          "text": [
            "          event_id  precipitation  label  event_idx  event_t\n",
            "0  id_spictby0jfsb       0.000000      0          0        0\n",
            "1  id_spictby0jfsb       0.095438      0          0        1\n",
            "2  id_spictby0jfsb       1.949560      0          0        2\n",
            "3  id_spictby0jfsb       3.232160      0          0        3\n",
            "4  id_spictby0jfsb       0.000000      0          0        4\n",
            "          event_id  precipitation  event_idx  event_t\n",
            "0  id_j7b6sokflo4k        0.00000          0        0\n",
            "1  id_j7b6sokflo4k        3.01864          0        1\n",
            "2  id_j7b6sokflo4k        0.00000          0        2\n",
            "3  id_j7b6sokflo4k       16.61520          0        3\n",
            "4  id_j7b6sokflo4k        2.56706          0        4\n"
          ]
        }
      ],
      "source": [
        "train_path = os.path.join(BASE_PATH, 'Train.csv')\n",
        "test_path = os.path.join(BASE_PATH, 'Test.csv')\n",
        "\n",
        "if not os.path.exists(train_path):\n",
        "\traise FileNotFoundError(f\"Train.csv not found in {BASE_PATH}\")\n",
        "if not os.path.exists(test_path):\n",
        "\traise FileNotFoundError(f\"Test.csv not found in {BASE_PATH}\")\n",
        "\n",
        "data = pd.read_csv(train_path)\n",
        "data_test = pd.read_csv(test_path)\n",
        "\n",
        "data['event_id'] = data['event_id'].apply(lambda x: '_'.join(x.split('_')[0:2]))\n",
        "data['event_idx'] = data.groupby('event_id', sort=False).ngroup()\n",
        "data_test['event_id'] = data_test['event_id'].apply(lambda x: '_'.join(x.split('_')[0:2]))\n",
        "data_test['event_idx'] = data_test.groupby('event_id', sort=False).ngroup()\n",
        "\n",
        "data['event_t'] = data.groupby('event_id').cumcount()\n",
        "data_test['event_t'] = data_test.groupby('event_id').cumcount()\n",
        "\n",
        "print(data.head())\n",
        "print(data_test.head())"
      ]
    },
    {
      "cell_type": "markdown",
      "metadata": {
        "id": "1UdE224Rl3Qy"
      },
      "source": [
        "Each event contains 730 days of precipitation measurements. Somewhere in these 730 days per location/event ID  there could be a flood. Due to the sparsity of identified floods we have created an imbalanced dataset where there are some \"events\" or \"locations\" that do not have a flood in any of the 730 days.\n"
      ]
    },
    {
      "cell_type": "markdown",
      "metadata": {
        "id": "NepME4Vvx6z4"
      },
      "source": [
        "Check that indeed an event_id has 730 datapoints."
      ]
    },
    {
      "cell_type": "code",
      "execution_count": 5,
      "metadata": {
        "colab": {
          "base_uri": "https://localhost:8080/"
        },
        "id": "v5ipu7gRx5yU",
        "outputId": "427ccf79-8b6c-4561-d3bc-0a2aa5ef62f1"
      },
      "outputs": [
        {
          "data": {
            "text/plain": [
              "730"
            ]
          },
          "execution_count": 5,
          "metadata": {},
          "output_type": "execute_result"
        }
      ],
      "source": [
        "len(data[data.event_id == 'id_p8f40663jj3g'])"
      ]
    },
    {
      "cell_type": "markdown",
      "metadata": {
        "id": "pkfBymipBAr7"
      },
      "source": [
        "### Load image data"
      ]
    },
    {
      "cell_type": "markdown",
      "metadata": {
        "id": "yjNC2X3SgDNs"
      },
      "source": [
        "Now, we load the images (includes both training and test sets)."
      ]
    },
    {
      "cell_type": "code",
      "execution_count": 6,
      "metadata": {
        "colab": {
          "base_uri": "https://localhost:8080/"
        },
        "id": "TBVtgMGOYeAC",
        "outputId": "ab936f83-98bd-48c9-d3e9-c879758d2a66"
      },
      "outputs": [
        {
          "name": "stdout",
          "output_type": "stream",
          "text": [
            "NpzFile 'C:\\\\Users\\\\CraigParker\\\\OneDrive - Wits Health Consortium\\\\PHR PC\\\\Downloads\\\\Joburg\\\\Zindi_comp\\\\composite_images.npz' with keys: id_rhg5w8vmv3ny, id_rua8ey2jczl0, id_073l04ir88sn, id_wmkfqw7iwjmu, id_heri806er7xw...\n",
            "The folder contains 898 images, both for train and test.\n",
            "There are 674 train event ids and 224 test event ids.\n"
          ]
        }
      ],
      "source": [
        "images_path = os.path.join(BASE_PATH, 'composite_images.npz')\n",
        "images = np.load(images_path)\n",
        "print(images)\n",
        "print('The folder contains', len(images), 'images, both for train and test.')\n",
        "print('There are', len(data['event_id'].unique()), 'train event ids and', len(data_test['event_id'].unique()), 'test event ids.')"
      ]
    },
    {
      "cell_type": "markdown",
      "metadata": {
        "id": "nje2tiFiE9Fn"
      },
      "source": [
        "The images are annual cloud-free composite images from [Sentinel-2](https://www.esa.int/Applications/Observing_the_Earth/Copernicus/Sentinel-2) satellite imagery. They are of size 128x128 and contain the following 6 channels:\n",
        "* Sentinel-2 B2 (Blue)\n",
        "* Sentinel-2 B3 (Green)\n",
        "* Sentinel-2 B4 (Red)\n",
        "* Sentinel-2 B8 (NIR)\n",
        "* Sentinel-2 B11 (SWIR)\n",
        "* Slope (derived from NASA SRTM)"
      ]
    },
    {
      "cell_type": "code",
      "execution_count": 7,
      "metadata": {
        "id": "IrGFusEwiayo"
      },
      "outputs": [],
      "source": [
        "# Image metadata constants\n",
        "\n",
        "# 5 bands and the slope of each image\n",
        "BAND_NAMES =  ('B2', 'B3', 'B4', 'B8', 'B11', 'slope')\n",
        "# Image shape\n",
        "H, W, NUM_CHANNELS = IMG_DIM = (128, 128, len(BAND_NAMES))"
      ]
    },
    {
      "cell_type": "markdown",
      "metadata": {
        "id": "Z7_SLcTujUin"
      },
      "source": [
        "You can visualize each of the bands of a given event_id"
      ]
    },
    {
      "cell_type": "code",
      "execution_count": 8,
      "metadata": {
        "colab": {
          "base_uri": "https://localhost:8080/",
          "height": 179
        },
        "id": "oVjEQM-6idNv",
        "outputId": "3909bbdb-9099-41f0-ca3a-886b652bbf36"
      },
      "outputs": [
        {
          "data": {
            "image/png": "[encoded data removed]",
            "text/plain": [
              "<Figure size 2100x350 with 6 Axes>"
            ]
          },
          "metadata": {},
          "output_type": "display_data"
        }
      ],
      "source": [
        "event_id = 'id_rhg5w8vmv3ny'\n",
        "\n",
        "num_cols = len(BAND_NAMES)\n",
        "_, axes = plt.subplots(\n",
        "    ncols=num_cols,\n",
        "    figsize=(num_cols * 3.5, 3.5),\n",
        "    facecolor='white',\n",
        ")\n",
        "\n",
        "for band_idx in range(num_cols):\n",
        "  img = images[event_id][..., band_idx]\n",
        "  axes[band_idx].imshow(img, cmap='gray', interpolation='nearest')\n",
        "  axes[band_idx].set_title(f'band {BAND_NAMES[band_idx]}')\n",
        "  axes[band_idx].get_xaxis().set_visible(False)\n",
        "  axes[band_idx].get_yaxis().set_visible(False)"
      ]
    },
    {
      "cell_type": "markdown",
      "metadata": {
        "id": "ryn-nmjhCVCw"
      },
      "source": [
        "### Construct splits and apply preprocessing"
      ]
    },
    {
      "cell_type": "markdown",
      "metadata": {
        "id": "s9e5D2IKhyRn"
      },
      "source": [
        "You can preprocess the image data to make it easier for the neural network model to process. We (approximately) normalize the image bands to make their mean near 0 and their standard deviation near 1, and we decode the slope data (which has been discretized as a 16-bit unsigned int) to radians."
      ]
    },
    {
      "cell_type": "code",
      "execution_count": 9,
      "metadata": {
        "id": "eeLYcqhVg4yc"
      },
      "outputs": [],
      "source": [
        "sample_image = next(iter(images.values()))\n",
        "assert sample_image.shape == IMG_DIM\n",
        "assert sample_image.dtype == np.uint16\n",
        "_MAX_INT = np.iinfo(np.uint16).max\n",
        "\n",
        "def decode_slope(x: np.ndarray) -> np.ndarray:\n",
        "  # Convert 16-bit discretized slope to float32 radians\n",
        "  return (x / _MAX_INT * (math.pi / 2.0)).astype(np.float32)\n",
        "\n",
        "def normalize(x: np.ndarray, mean: int, std: int) -> np.ndarray:\n",
        "  return (x - mean) / std\n",
        "\n",
        "rough_S2_normalize = partial(normalize, mean=1250, std=500)\n",
        "\n",
        "def preprocess_image(x: np.ndarray) -> np.ndarray:\n",
        "  return np.concatenate([\n",
        "      rough_S2_normalize(x[..., :-1].astype(np.float32)),\n",
        "      decode_slope(x[..., -1:]),\n",
        "  ], axis=-1, dtype=np.float32)\n"
      ]
    },
    {
      "cell_type": "markdown",
      "metadata": {
        "id": "IkD9XFcil0ds"
      },
      "source": [
        "You can create a validation-train split and use the validation set to choose your hyperparameters. Here we take 10% of the original training set as validation set."
      ]
    },
    {
      "cell_type": "code",
      "execution_count": 10,
      "metadata": {
        "id": "ZEeMeXe6ykGw"
      },
      "outputs": [],
      "source": [
        "rng = np.random.default_rng(seed=0xf100d)\n",
        "\n",
        "event_ids = data['event_id'].unique()\n",
        "new_split = pd.Series(\n",
        "    data=np.random.choice(['train', 'valid'], size=len(event_ids), p=[0.9, 0.1]),\n",
        "    index=event_ids,\n",
        "    name='split',\n",
        ")\n",
        "data_new = data.join(new_split, on='event_id')\n",
        "\n",
        "train_df = data_new[(data_new['split'] == 'train')]\n",
        "train_timeseries = train_df.pivot(index='event_id', columns='event_t', values='precipitation').to_numpy()\n",
        "train_labels = train_df.pivot(index='event_id', columns='event_t', values='label').to_numpy()\n",
        "\n",
        "valid_df = data_new[data_new['split'] == 'valid']\n",
        "valid_timeseries = valid_df.pivot(index='event_id', columns='event_t', values='precipitation').to_numpy()\n",
        "valid_labels = valid_df.pivot(index='event_id', columns='event_t', values='label').to_numpy()\n",
        "\n",
        "# For the test set there are no labels\n",
        "test_timeseries = data_test.pivot(index='event_id', columns='event_t', values='precipitation').to_numpy()\n",
        "\n",
        "event_splits = data_new.groupby('event_id')['split'].first()"
      ]
    },
    {
      "cell_type": "markdown",
      "metadata": {
        "id": "VdRagudPnidK"
      },
      "source": [
        "Store the images in separated sets for validation training and test sets."
      ]
    },
    {
      "cell_type": "code",
      "execution_count": 19,
      "metadata": {
        "colab": {
          "base_uri": "https://localhost:8080/",
          "height": 81,
          "referenced_widgets": [
            "887f21b8db574156b45286ffc2da33ad",
            "aaf82131416e463389504e7615d6ebdb",
            "2bad9c89bee0471ea7f7bd7258a214d5",
            "9d0263f272774976925782d9451ee033",
            "f5f7aa1b0ea44f3cac94878aaa073708",
            "6b9ed21060494f9086149bb6d4cd2261",
            "762e07e3bd394f33a7b530a8d1d0c990",
            "d92ec41f33054c7387d3fe7957799fd2",
            "a436d428ee234f718e8e1fb434492b98",
            "cf336f852c1943ccbccf5f7c96d14f7f",
            "d05d3e2f52d54ab2b45fdca9adc41edd",
            "78ece85b75b64c53a8bcc475d422df0d",
            "5045aa58ccca49b19e1f7866b586dc1d",
            "04908695369c4c85a888a439744cbf48",
            "aa7d02a9aca24c10af8ce2f56bd75952",
            "8007f036268e453c83a7d992db4b2c0f",
            "79b8558f75b6455ba4fb7c4711afc892",
            "f9815294a46c4583bdcbcbee14aa5cb1",
            "f78b921579c948bd8d18ddc6f7eba2b2",
            "e1cf012160a647aaa6d9261be26fe994",
            "b20b1f939d364536a8d276180bf40e49",
            "2aec8a82a8134511911cfd0e3131692b"
          ]
        },
        "id": "hOtq6pl4k0vK",
        "outputId": "9f752825-9edb-4847-8522-df979b23c5b2"
      },
      "outputs": [
        {
          "data": {
            "application/vnd.jupyter.widget-view+json": {
              "model_id": "42a2eb6b1c714c279167fb92669af28d",
              "version_major": 2,
              "version_minor": 0
            },
            "text/plain": [
              "  0%|          | 0/674 [00:00<?, ?it/s]"
            ]
          },
          "metadata": {},
          "output_type": "display_data"
        },
        {
          "data": {
            "application/vnd.jupyter.widget-view+json": {
              "model_id": "1053ad1ff8684a41bf7ff80304a24212",
              "version_major": 2,
              "version_minor": 0
            },
            "text/plain": [
              "  0%|          | 0/224 [00:00<?, ?it/s]"
            ]
          },
          "metadata": {},
          "output_type": "display_data"
        }
      ],
      "source": [
        "train_images = []\n",
        "valid_images = []\n",
        "test_images = []\n",
        "\n",
        "for event_id in tqdm(event_splits.index):\n",
        "  img = preprocess_image(images[event_id])\n",
        "  if event_splits[event_id] == 'train':\n",
        "    train_images.append(img)\n",
        "  else:\n",
        "    valid_images.append(img)\n",
        "\n",
        "for event_id in tqdm(data_test['event_id'].unique()):\n",
        "  img = preprocess_image(images[event_id])\n",
        "  test_images.append(img)\n",
        "\n",
        "train_images = np.stack(train_images, axis=0)\n",
        "valid_images = np.stack(valid_images, axis=0)\n",
        "test_images = np.stack(test_images, axis=0)"
      ]
    },
    {
      "cell_type": "markdown",
      "metadata": {
        "id": "GhgoWJ8On2rQ"
      },
      "source": [
        "Check that the sizes make sense."
      ]
    },
    {
      "cell_type": "code",
      "execution_count": 20,
      "metadata": {
        "colab": {
          "base_uri": "https://localhost:8080/"
        },
        "id": "Xfw6d5-Cn2KA",
        "outputId": "abfa420f-6268-4b0c-f840-0e1708292bb2"
      },
      "outputs": [
        {
          "name": "stdout",
          "output_type": "stream",
          "text": [
            "train_timeseries.shape=(606, 730)\n",
            "    train_images.shape=(606, 128, 128, 6)\n",
            "    train_labels.shape=(606, 730)\n"
          ]
        }
      ],
      "source": [
        "print(f'{train_timeseries.shape=}')\n",
        "print(f'    {train_images.shape=}')\n",
        "print(f'    {train_labels.shape=}')"
      ]
    },
    {
      "cell_type": "code",
      "execution_count": 21,
      "metadata": {
        "colab": {
          "base_uri": "https://localhost:8080/"
        },
        "id": "mZvFgnR88DsA",
        "outputId": "1d40b044-c083-407f-ec10-25a843e8bec8"
      },
      "outputs": [
        {
          "name": "stdout",
          "output_type": "stream",
          "text": [
            "valid_timeseries.shape=(68, 730)\n",
            "    valid_images.shape=(68, 128, 128, 6)\n",
            "    valid_labels.shape=(68, 730)\n"
          ]
        }
      ],
      "source": [
        "print(f'{valid_timeseries.shape=}')\n",
        "print(f'    {valid_images.shape=}')\n",
        "print(f'    {valid_labels.shape=}')"
      ]
    },
    {
      "cell_type": "code",
      "execution_count": 22,
      "metadata": {
        "colab": {
          "base_uri": "https://localhost:8080/"
        },
        "id": "1iz8MQngWvvx",
        "outputId": "964fe31b-2640-4dac-b004-ead4187ef5f1"
      },
      "outputs": [
        {
          "name": "stdout",
          "output_type": "stream",
          "text": [
            "test_timeseries.shape=(224, 730)\n",
            "    test_images.shape=(224, 128, 128, 6)\n"
          ]
        }
      ],
      "source": [
        "print(f'{test_timeseries.shape=}')\n",
        "print(f'    {test_images.shape=}')\n"
      ]
    },
    {
      "cell_type": "markdown",
      "metadata": {
        "id": "7w8YDvWOn_Z3"
      },
      "source": [
        "# Training a model"
      ]
    },
    {
      "cell_type": "markdown",
      "metadata": {
        "id": "qLwx1fcKpBJj"
      },
      "source": [
        "This is a multimodal task, as you have two different types of inputs: 1D vectors corresponding to precipitation and 2D matrices corresponding to satellite images.\n",
        "\n",
        "To be able to use the two input modalities, we propose here to run two different models on each type of input to obtain as output an embedding for each. Then, the two embeddings are concatenated to run a final dense layer which outputs a single value. This value is then passed to the loss function that uses a sigmoid binary cross entropy, suitable for a classification task with two classes: flooded true or flooded false.\n",
        "\n",
        "\n",
        "As mentioned, we are using binary cross entropy loss, you can read more about it here: https://towardsdatascience.com/understanding-binary-cross-entropy-log-loss-a-visual-explanation-a3ac6025181a"
      ]
    },
    {
      "cell_type": "markdown",
      "metadata": {
        "id": "fLWLyv31wnvE"
      },
      "source": [
        "We use JAX and Flax to implement sample neural network models. Read more about these libraries here https://flax-linen.readthedocs.io/en/latest/guides/index.html.\n",
        "\n",
        "\n",
        "These are just some examples, feel free to implement better models and tune the hyperparameters!"
      ]
    },
    {
      "cell_type": "markdown",
      "metadata": {
        "id": "FqDsocBw5AT3"
      },
      "source": [
        "## Images ResNet"
      ]
    },
    {
      "cell_type": "markdown",
      "metadata": {
        "id": "UDQkinvk2D7G"
      },
      "source": [
        "Copyright 2024 The Flax Authors, licensed under the Apache License, Version 2.0 (Apache 2.0) available at https://www.apache.org/licenses/LICENSE-2.0. Code has been modified from https://github.com/google/flax/blob/main/examples/imagenet/models.py"
      ]
    },
    {
      "cell_type": "markdown",
      "metadata": {
        "id": "m_-8v_cCwUBI"
      },
      "source": [
        "For the images, we use a ResNet model, which was originally introduced in https://arxiv.org/abs/1512.03385"
      ]
    },
    {
      "cell_type": "code",
      "execution_count": 23,
      "metadata": {
        "id": "Jul-cBH3oAe5"
      },
      "outputs": [],
      "source": [
        "\"\"\"Flax implementation of ResNet V1.5, without output head to return embedding.\"\"\"\n",
        "ModuleDef = Any\n",
        "\n",
        "\n",
        "class ResNetBlock(nn.Module):\n",
        "  \"\"\"ResNet block.\"\"\"\n",
        "\n",
        "  filters: int\n",
        "  conv: ModuleDef\n",
        "  norm: ModuleDef\n",
        "  act: Callable\n",
        "  strides: tuple[int, int] = (1, 1)\n",
        "\n",
        "  @nn.compact\n",
        "  def __call__(\n",
        "      self,\n",
        "      x,\n",
        "  ):\n",
        "    residual = x\n",
        "    y = self.conv(self.filters, (3, 3), self.strides)(x)\n",
        "    y = self.norm()(y)\n",
        "    y = self.act(y)\n",
        "    y = self.conv(self.filters, (3, 3))(y)\n",
        "    y = self.norm(scale_init=nn.initializers.zeros_init())(y)\n",
        "\n",
        "    if residual.shape != y.shape:\n",
        "      residual = self.conv(\n",
        "          self.filters, (1, 1), self.strides, name='conv_proj'\n",
        "      )(residual)\n",
        "      residual = self.norm(name='norm_proj')(residual)\n",
        "\n",
        "    return self.act(residual + y)\n",
        "\n",
        "\n",
        "class ResNet(nn.Module):\n",
        "  \"\"\"ResNetV1.5.\"\"\"\n",
        "\n",
        "  stage_sizes: Sequence[int]\n",
        "  block_cls: ModuleDef\n",
        "  num_filters: int = 64\n",
        "  dtype: Any = jnp.float32\n",
        "  act: Callable = nn.relu\n",
        "  conv: ModuleDef = nn.Conv\n",
        "\n",
        "  @nn.compact\n",
        "  def __call__(self, x, is_training: bool = True):\n",
        "    conv = partial(self.conv, use_bias=False, dtype=self.dtype)\n",
        "    norm = partial(\n",
        "        nn.BatchNorm,\n",
        "        use_running_average=not is_training,\n",
        "        momentum=0.9,\n",
        "        epsilon=1e-5,\n",
        "        dtype=self.dtype,\n",
        "    )\n",
        "\n",
        "    x = conv(\n",
        "        self.num_filters,\n",
        "        (7, 7),\n",
        "        (2, 2),\n",
        "        padding=[(3, 3), (3, 3)],\n",
        "        name='conv_init',\n",
        "    )(x)\n",
        "    x = norm(name='bn_init')(x)\n",
        "    x = nn.relu(x)\n",
        "    x = nn.max_pool(x, (3, 3), strides=(2, 2), padding='SAME')\n",
        "    for i, block_size in enumerate(self.stage_sizes):\n",
        "      for j in range(block_size):\n",
        "        strides = (2, 2) if i > 0 and j == 0 else (1, 1)\n",
        "        x = self.block_cls(\n",
        "            self.num_filters * 2**i,\n",
        "            strides=strides,\n",
        "            conv=conv,\n",
        "            norm=norm,\n",
        "            act=self.act,\n",
        "        )(x)\n",
        "    x = jnp.mean(x, axis=(1, 2))\n",
        "    return x"
      ]
    },
    {
      "cell_type": "code",
      "execution_count": 24,
      "metadata": {
        "id": "qROi5y7W43iv"
      },
      "outputs": [],
      "source": [
        "ResNet18 = partial(ResNet, stage_sizes=[2, 2, 2, 2], block_cls=ResNetBlock)"
      ]
    },
    {
      "cell_type": "markdown",
      "metadata": {
        "id": "wU7_-5On5FnW"
      },
      "source": [
        "## Time series ResNet"
      ]
    },
    {
      "cell_type": "markdown",
      "metadata": {
        "id": "867fw4pH2ARQ"
      },
      "source": [
        "Copyright 2024 The Flax Authors, licensed under the Apache License, Version 2.0 (Apache 2.0) available at https://www.apache.org/licenses/LICENSE-2.0. Code has been modified from https://github.com/google/flax/blob/main/examples/imagenet/models.py"
      ]
    },
    {
      "cell_type": "markdown",
      "metadata": {
        "id": "Nv0ssmvewd6Q"
      },
      "source": [
        "For the rainfall data, we use an adaptation of the previous model for one dimensional data."
      ]
    },
    {
      "cell_type": "code",
      "execution_count": 25,
      "metadata": {
        "id": "8orWU8tR5FGf"
      },
      "outputs": [],
      "source": [
        "\"\"\"Adaptation of ResNet for 1D time series, without output head (returns embedding).\"\"\"\n",
        "\n",
        "class ResNetBlock1d(nn.Module):\n",
        "  \"\"\"ResNet block.\"\"\"\n",
        "\n",
        "  filters: int\n",
        "  conv: ModuleDef\n",
        "  norm: ModuleDef\n",
        "  act: Callable\n",
        "  strides: tuple[int] = (1,)\n",
        "\n",
        "  @nn.compact\n",
        "  def __call__(\n",
        "      self,\n",
        "      x,\n",
        "  ):\n",
        "    residual = x\n",
        "    y = self.conv(self.filters, (3,), self.strides, padding='SAME')(x)\n",
        "    y = self.norm()(y)\n",
        "    y = self.act(y)\n",
        "    y = self.conv(self.filters, (3,), padding='SAME')(y)\n",
        "    y = self.norm(scale_init=nn.initializers.zeros_init())(y)\n",
        "\n",
        "    if residual.shape != y.shape:\n",
        "      residual = self.conv(\n",
        "          self.filters, (1,), self.strides, name='conv_proj'\n",
        "      )(residual)\n",
        "      residual = self.norm(name='norm_proj')(residual)\n",
        "\n",
        "    return self.act(residual + y)\n",
        "\n",
        "\n",
        "class ResNet1d(nn.Module):\n",
        "  stage_sizes: Sequence[int]\n",
        "  block_cls: ModuleDef\n",
        "  num_filters: int = 64\n",
        "  dtype: Any = jnp.float32\n",
        "  act: Callable = nn.relu\n",
        "  conv: ModuleDef = nn.Conv\n",
        "  embed: bool = True\n",
        "\n",
        "  @nn.compact\n",
        "  def __call__(self, x, is_training: bool = True):\n",
        "    conv = partial(self.conv, use_bias=False, dtype=self.dtype)\n",
        "    norm = partial(\n",
        "        nn.BatchNorm,\n",
        "        use_running_average=not is_training,\n",
        "        momentum=0.9,\n",
        "        epsilon=1e-5,\n",
        "        dtype=self.dtype,\n",
        "    )\n",
        "    x = jnp.expand_dims(x, axis=-1)  # add a virtual 'channel' dimension\n",
        "    x = conv(\n",
        "        self.num_filters,\n",
        "        (7,),\n",
        "        (1,),\n",
        "        padding='SAME',\n",
        "        name='conv_init',\n",
        "    )(x)\n",
        "    x = norm(name='bn_init')(x)\n",
        "    x = nn.relu(x)\n",
        "    x = nn.max_pool(x, (3,), strides=(1,), padding='SAME')\n",
        "    for i, block_size in enumerate(self.stage_sizes):\n",
        "      for j in range(block_size):\n",
        "        x = self.block_cls(\n",
        "            self.num_filters * 2**i,\n",
        "            strides=(1,),\n",
        "            conv=conv,\n",
        "            norm=norm,\n",
        "            act=self.act,\n",
        "        )(x)\n",
        "    # linear project down to a single logit per timestep\n",
        "    return x  # (B, T, C)"
      ]
    },
    {
      "cell_type": "code",
      "execution_count": 26,
      "metadata": {
        "id": "Xq-n9W865LVp"
      },
      "outputs": [],
      "source": [
        "ResNet1d18 = partial(ResNet1d, stage_sizes=[2, 2, 2, 2], block_cls=ResNetBlock1d)"
      ]
    },
    {
      "cell_type": "markdown",
      "metadata": {
        "id": "cvoQ4jJL5f_A"
      },
      "source": [
        "## Combined model"
      ]
    },
    {
      "cell_type": "code",
      "execution_count": 27,
      "metadata": {
        "id": "IKFJ_pVR5X6M"
      },
      "outputs": [],
      "source": [
        "\"\"\"Combined time series + image model.\"\"\"\n",
        "\n",
        "class CombinedModel(nn.Module):\n",
        "  \"\"\"Takes two embedding models and passes them through a single output head.\"\"\"\n",
        "  timeseries_model_cls: ModuleDef\n",
        "  images_model_cls: ModuleDef\n",
        "  num_classes: int\n",
        "  dtype: Any = jnp.float32\n",
        "  use_images: bool = True\n",
        "\n",
        "  @nn.compact\n",
        "  def __call__(\n",
        "      self, x: tuple[jnp.ndarray, jnp.ndarray], is_training: bool = True\n",
        "  ):\n",
        "    x_timeseries, x_images = x\n",
        "    T = x_timeseries.shape[1]\n",
        "\n",
        "    timeseries_model = self.timeseries_model_cls()\n",
        "    logits = timeseries_model(x_timeseries, is_training=is_training)  # (B, T, C)\n",
        "\n",
        "    if self.use_images:\n",
        "      images_model = self.images_model_cls()\n",
        "      x_images = images_model(x_images, is_training=is_training)\n",
        "      # tile to match time axis\n",
        "      x_images = jnp.tile(jnp.expand_dims(x_images, axis=1), (1, T, 1))\n",
        "\n",
        "\n",
        "      logits = jnp.concatenate([logits, x_images], axis=-1)\n",
        "\n",
        "\n",
        "    x = nn.Conv(1, (1,), padding='SAME', name='output_head')(logits)\n",
        "    x = jnp.squeeze(x, axis=-1)\n",
        "    x = jnp.asarray(x, self.dtype)\n",
        "    return x"
      ]
    },
    {
      "cell_type": "code",
      "execution_count": 20,
      "metadata": {
        "id": "qk0WXLzH5eIn"
      },
      "outputs": [],
      "source": [
        "NUM_CLASSES = 2  # Flood / No flood.\n",
        "\n",
        "def get_datasets():\n",
        "  \"\"\"Load train and test datasets into memory.\"\"\"\n",
        "  train_ds = {\n",
        "      'timeseries': train_timeseries,\n",
        "      'image': train_images,\n",
        "      'label': train_labels,\n",
        "  }\n",
        "  valid_ds = {\n",
        "      'timeseries': valid_timeseries,\n",
        "      'image': valid_images,\n",
        "      'label': valid_labels,\n",
        "  }\n",
        "\n",
        "  test_ds = {\n",
        "      'timeseries': test_timeseries,\n",
        "      'image': test_images,\n",
        "  }\n",
        "  return train_ds, valid_ds, test_ds"
      ]
    },
    {
      "cell_type": "markdown",
      "metadata": {
        "id": "CKMTqUaT6H2n"
      },
      "source": [
        "These are some functions to analyse the outputs. They compute accuracy, mean absolute deviation and the accuracy after choosing a set of k more likely flooded time steps."
      ]
    },
    {
      "cell_type": "code",
      "execution_count": 28,
      "metadata": {
        "id": "-p9qwFdO5qnd"
      },
      "outputs": [],
      "source": [
        "def get_metrics(logits: jnp.ndarray, labels: jnp.ndarray):\n",
        "  # Argmax chooses the most probable time step to be flooded\n",
        "  labels = jnp.argmax(labels, axis=-1)\n",
        "  logits = jnp.argmax(logits, axis=-1)\n",
        "  accuracy = jnp.mean(labels == logits)\n",
        "  mad = jnp.mean(jnp.abs(labels - logits))\n",
        "  return accuracy, mad\n",
        "\n",
        "\n",
        "def get_accuracy_kth(logits: jnp.ndarray, labels: jnp.ndarray, first_k: int):\n",
        "  # This method chooses the k-th most probable time steps to be flooded.\n",
        "  # If k=1 this is equivalent to accuracy from `get_metrics`\n",
        "  idx_sorted_labels = jnp.argsort(labels, axis=-1, descending=True)\n",
        "  idx_sorted_logits = jnp.argsort(logits, axis=-1, descending=True)\n",
        "  labels_k = idx_sorted_labels[:,:first_k]\n",
        "  logits_k = idx_sorted_logits[:,:first_k]\n",
        "  accuracy_kth = jnp.mean(labels_k == logits_k)\n",
        "  return accuracy_kth"
      ]
    },
    {
      "cell_type": "markdown",
      "metadata": {
        "id": "rreakDs1vPUr"
      },
      "source": [
        "We can make predictions on new examples by passing the model parameters, state and preprocessed inputs to the `apply` function:"
      ]
    },
    {
      "cell_type": "code",
      "execution_count": 29,
      "metadata": {
        "id": "7-tEpyhp6FwW"
      },
      "outputs": [],
      "source": [
        "class TrainState(train_state.TrainState):\n",
        "  batch_stats: Any\n",
        "\n",
        "\n",
        "def get_prediction(state, inputs, is_training=True):\n",
        "  logits, new_model_state = state.apply_fn(\n",
        "      {'params': state.params, 'batch_stats': state.batch_stats}, inputs,\n",
        "      is_training=is_training, mutable=['batch_stats'],\n",
        "      )\n",
        "  return new_model_state, logits\n",
        "\n",
        "@partial(jax.jit, static_argnames=['is_training'])\n",
        "def apply_model(state, inputs, labels, is_training=True):\n",
        "  \"\"\"Computes gradients, loss and accuracy for a single batch.\"\"\"\n",
        "\n",
        "  def loss_fn(params):\n",
        "    logits, new_model_state = state.apply_fn(\n",
        "        {'params': params, 'batch_stats': state.batch_stats},\n",
        "        inputs,\n",
        "        is_training=is_training,\n",
        "        mutable=['batch_stats'],\n",
        "    )\n",
        "    losses = optax.sigmoid_binary_cross_entropy(logits=logits, labels=labels)\n",
        "    loss = jnp.mean(losses)\n",
        "    return loss, (new_model_state, logits, losses)\n",
        "\n",
        "  grad_fn = jax.value_and_grad(loss_fn, has_aux=True)\n",
        "  (loss, (new_model_state, logits, losses)), grads = grad_fn(state.params)\n",
        "  # Logits shape is: batch size x number of time steps\n",
        "\n",
        "  accuracy, mad = get_metrics(logits, labels)\n",
        "  accuracy_kth = get_accuracy_kth(logits, labels, first_k=1)\n",
        "  if is_training is False:\n",
        "    # for validation\n",
        "    return (\n",
        "        grads,\n",
        "        new_model_state['batch_stats'],\n",
        "        loss,\n",
        "        accuracy,\n",
        "        mad,\n",
        "        accuracy_kth,\n",
        "        losses,)\n",
        "  else:\n",
        "    return (\n",
        "        grads,\n",
        "        new_model_state['batch_stats'],\n",
        "        loss,\n",
        "        accuracy,\n",
        "        mad,\n",
        "        accuracy_kth,\n",
        "    )\n",
        "\n",
        "\n",
        "@jax.jit\n",
        "def update_model(state, grads, batch_stats):\n",
        "  return state.apply_gradients(grads=grads, batch_stats=batch_stats)\n",
        "\n",
        "\n",
        "def train_epoch(state, train_ds, batch_size, rng):\n",
        "  \"\"\"Train for a single epoch.\"\"\"\n",
        "  train_ds_size = len(train_ds['timeseries'])\n",
        "  steps_per_epoch = train_ds_size // batch_size\n",
        "\n",
        "  perms = jax.random.permutation(rng, len(train_ds['timeseries']))\n",
        "  perms = perms[: steps_per_epoch * batch_size]  # skip incomplete batch\n",
        "  perms = perms.reshape((steps_per_epoch, batch_size))\n",
        "\n",
        "  epoch_metrics = collections.defaultdict(list)\n",
        "\n",
        "  for perm in perms:\n",
        "    batch_timeseries = train_ds['timeseries'][perm, ...]\n",
        "    # print(f'{batch_timeseries.shape=}')\n",
        "    batch_images = train_ds['image'][perm, ...]\n",
        "    # print(f'{batch_images.shape=}')\n",
        "    batch_labels = train_ds['label'][perm, ...]\n",
        "    batch_inputs = (batch_timeseries, batch_images)\n",
        "    grads, batch_stats, loss, accuracy, mad, accuracy_kth = apply_model(\n",
        "        state, batch_inputs, batch_labels)\n",
        "    state = update_model(state, grads, batch_stats)\n",
        "    epoch_metrics['loss'].append(loss)\n",
        "    epoch_metrics['accuracy'].append(accuracy)\n",
        "    epoch_metrics['accuracy_kth'].append(accuracy_kth)\n",
        "    epoch_metrics['mad'].append(mad)\n",
        "\n",
        "  n = len(epoch_metrics['loss'])\n",
        "\n",
        "  return (\n",
        "      state,\n",
        "      sum(epoch_metrics['loss']) / n,\n",
        "      sum(epoch_metrics['accuracy']) / n,\n",
        "      sum(epoch_metrics['mad']) / n,\n",
        "      sum(epoch_metrics['accuracy_kth']) / n,\n",
        "  )\n",
        "\n",
        "\n",
        "def create_train_state(rng, use_images: bool):\n",
        "  \"\"\"Creates initial `TrainState`.\"\"\"\n",
        "  model = CombinedModel(\n",
        "      timeseries_model_cls=partial(ResNet1d18, num_filters=8),\n",
        "      images_model_cls=partial(ResNet18, num_filters=8),\n",
        "      num_classes=NUM_CLASSES,\n",
        "      use_images=use_images,\n",
        "  )\n",
        "  dummy_inputs = (\n",
        "      jnp.ones([1, train_timeseries.shape[-1]]),\n",
        "      jnp.ones([1, H, W, NUM_CHANNELS]),\n",
        "  )\n",
        "  variables = model.init(rng, dummy_inputs)\n",
        "  tx = optax.adamw(1e-3)\n",
        "  return TrainState.create(\n",
        "      params=variables['params'],\n",
        "      batch_stats=variables['batch_stats'],\n",
        "      apply_fn=model.apply,\n",
        "      tx=tx,\n",
        "  )"
      ]
    },
    {
      "cell_type": "markdown",
      "metadata": {
        "id": "UwI_vdxIvu25"
      },
      "source": [
        "Our `train_and_evaluate` function takes care of the training loop. We apply our model, compute the losses and update the weights. You can see how accuracy improves as epochs move forward. The function outputs the losses so that you can visualize them afterwards."
      ]
    },
    {
      "cell_type": "code",
      "execution_count": 30,
      "metadata": {
        "id": "lPsv7N09vr9p"
      },
      "outputs": [],
      "source": [
        "def train_and_evaluate(\n",
        "    num_epochs: int,\n",
        "    batch_size: int,\n",
        "    use_images: bool,\n",
        ") -> train_state.TrainState:\n",
        "  \"\"\"Execute model training and evaluation loop.\n",
        "\n",
        "  Args:\n",
        "    config: Hyperparameter configuration for training and evaluation.\n",
        "    workdir: Directory where the tensorboard  summaries are written to.\n",
        "\n",
        "  Returns:\n",
        "    The train state (which includes the `.params`).\n",
        "  \"\"\"\n",
        "  train_ds, valid_ds, _ = get_datasets()\n",
        "  rng = jax.random.key(0)\n",
        "\n",
        "  rng, init_rng = jax.random.split(rng)\n",
        "  state = create_train_state(init_rng, use_images)\n",
        "\n",
        "  for epoch in range(1, num_epochs + 1):\n",
        "    rng, input_rng = jax.random.split(rng)\n",
        "    state, train_loss, train_acc, train_mad, train_acc_kth = (\n",
        "        train_epoch(state, train_ds, batch_size, input_rng)\n",
        "    )\n",
        "    valid_inputs = (valid_ds['timeseries'], valid_ds['image'])\n",
        "    _, _, valid_loss, valid_acc, valid_mad, valid_acc_kth, losses = (\n",
        "        apply_model(\n",
        "            state, valid_inputs, valid_ds['label'], is_training=False,\n",
        "        )\n",
        "    )\n",
        "\n",
        "    if epoch == 1 or epoch % 10 == 0 or epoch == num_epochs:\n",
        "      print(\n",
        "          'epoch:% 3d \\n'\n",
        "          'train loss: %.4f train_acc: %2f train_mad: %2f train_kth_acc: %2f\\n'\n",
        "          'validation loss: %.4f valid_acc: %2f valid_mad: %2f\\n valid_kth_acc: %2f'\n",
        "          % (\n",
        "              epoch,\n",
        "              train_loss,\n",
        "              train_acc,\n",
        "              train_mad,\n",
        "              train_acc_kth,\n",
        "              valid_loss,\n",
        "              valid_acc,\n",
        "              valid_mad,\n",
        "              valid_acc_kth,\n",
        "          )\n",
        "          )\n",
        "  return state, losses"
      ]
    },
    {
      "cell_type": "markdown",
      "metadata": {
        "id": "Dt4lBSHOwLL_"
      },
      "source": [
        "You can decide to train using images and rainfall data or only use rainfall data. Is the performance affected?"
      ]
    },
    {
      "cell_type": "code",
      "execution_count": 33,
      "metadata": {
        "colab": {
          "base_uri": "https://localhost:8080/"
        },
        "id": "Q6Wi-rTN6vFX",
        "outputId": "78bd856f-f824-4e54-9e37-d370d54e239e"
      },
      "outputs": [
        {
          "name": "stdout",
          "output_type": "stream",
          "text": [
            "epoch:  1 \n",
            "train loss: 0.5533 train_acc: 0.013889 train_mad: 277.996521 train_kth_acc: 0.013889\n",
            "validation loss: 0.5664 valid_acc: 0.044118 valid_mad: 236.529419\n",
            " valid_kth_acc: 0.044118\n",
            "epoch: 10 \n",
            "train loss: 0.0179 train_acc: 0.034722 train_mad: 275.008667 train_kth_acc: 0.034722\n",
            "validation loss: 0.0174 valid_acc: 0.014706 valid_mad: 303.367645\n",
            " valid_kth_acc: 0.014706\n",
            "epoch: 20 \n",
            "train loss: 0.0077 train_acc: 0.055556 train_mad: 276.447906 train_kth_acc: 0.055556\n",
            "validation loss: 0.0077 valid_acc: 0.058824 valid_mad: 263.823517\n",
            " valid_kth_acc: 0.058824\n",
            "epoch: 30 \n",
            "train loss: 0.0054 train_acc: 0.092014 train_mad: 275.529510 train_kth_acc: 0.092014\n",
            "validation loss: 0.0057 valid_acc: 0.058824 valid_mad: 232.058823\n",
            " valid_kth_acc: 0.058824\n",
            "epoch: 40 \n",
            "train loss: 0.0046 train_acc: 0.095486 train_mad: 263.420135 train_kth_acc: 0.095486\n",
            "validation loss: 0.0049 valid_acc: 0.058824 valid_mad: 218.426468\n",
            " valid_kth_acc: 0.058824\n",
            "epoch: 50 \n",
            "train loss: 0.0040 train_acc: 0.123264 train_mad: 256.991333 train_kth_acc: 0.123264\n",
            "validation loss: 0.0047 valid_acc: 0.073529 valid_mad: 230.514709\n",
            " valid_kth_acc: 0.073529\n",
            "epoch: 60 \n",
            "train loss: 0.0036 train_acc: 0.135417 train_mad: 260.968750 train_kth_acc: 0.135417\n",
            "validation loss: 0.0044 valid_acc: 0.088235 valid_mad: 228.220596\n",
            " valid_kth_acc: 0.088235\n",
            "epoch: 70 \n",
            "train loss: 0.0032 train_acc: 0.157986 train_mad: 252.282990 train_kth_acc: 0.157986\n",
            "validation loss: 0.0045 valid_acc: 0.088235 valid_mad: 251.823532\n",
            " valid_kth_acc: 0.088235\n",
            "epoch: 80 \n",
            "train loss: 0.0028 train_acc: 0.192708 train_mad: 256.906250 train_kth_acc: 0.192708\n",
            "validation loss: 0.0045 valid_acc: 0.117647 valid_mad: 257.205872\n",
            " valid_kth_acc: 0.117647\n",
            "epoch: 90 \n",
            "train loss: 0.0025 train_acc: 0.210069 train_mad: 242.600693 train_kth_acc: 0.210069\n",
            "validation loss: 0.0045 valid_acc: 0.102941 valid_mad: 253.926468\n",
            " valid_kth_acc: 0.102941\n",
            "epoch: 100 \n",
            "train loss: 0.0023 train_acc: 0.241319 train_mad: 231.454865 train_kth_acc: 0.241319\n",
            "validation loss: 0.0045 valid_acc: 0.102941 valid_mad: 248.470596\n",
            " valid_kth_acc: 0.102941\n",
            "epoch: 110 \n",
            "train loss: 0.0019 train_acc: 0.267361 train_mad: 212.923615 train_kth_acc: 0.267361\n",
            "validation loss: 0.0046 valid_acc: 0.073529 valid_mad: 274.867645\n",
            " valid_kth_acc: 0.073529\n",
            "epoch: 120 \n",
            "train loss: 0.0018 train_acc: 0.263889 train_mad: 221.532990 train_kth_acc: 0.263889\n",
            "validation loss: 0.0046 valid_acc: 0.088235 valid_mad: 244.661758\n",
            " valid_kth_acc: 0.088235\n",
            "epoch: 130 \n",
            "train loss: 0.0016 train_acc: 0.300347 train_mad: 220.157990 train_kth_acc: 0.300347\n",
            "validation loss: 0.0046 valid_acc: 0.073529 valid_mad: 256.632355\n",
            " valid_kth_acc: 0.073529\n",
            "epoch: 140 \n",
            "train loss: 0.0015 train_acc: 0.302083 train_mad: 209.161453 train_kth_acc: 0.302083\n",
            "validation loss: 0.0047 valid_acc: 0.102941 valid_mad: 246.985291\n",
            " valid_kth_acc: 0.102941\n",
            "epoch: 150 \n",
            "train loss: 0.0013 train_acc: 0.319444 train_mad: 214.500000 train_kth_acc: 0.319444\n",
            "validation loss: 0.0049 valid_acc: 0.058824 valid_mad: 249.720596\n",
            " valid_kth_acc: 0.058824\n"
          ]
        }
      ],
      "source": [
        "def get_datasets():\n",
        "    \"\"\"Load train and test datasets into memory.\"\"\"\n",
        "    train_ds = {\n",
        "        'timeseries': train_timeseries,\n",
        "        'image': train_images,\n",
        "        'label': train_labels,\n",
        "    }\n",
        "    valid_ds = {\n",
        "        'timeseries': valid_timeseries,\n",
        "        'image': valid_images,\n",
        "        'label': valid_labels,\n",
        "    }\n",
        "\n",
        "    test_ds = {\n",
        "        'timeseries': test_timeseries,\n",
        "        'image': test_images,\n",
        "    }\n",
        "    return train_ds, valid_ds, test_ds\n",
        "\n",
        "NUM_CLASSES = 2  # Flood / No flood.\n",
        "\n",
        "final_state, losses = train_and_evaluate(\n",
        "    num_epochs=150,\n",
        "    batch_size=64,\n",
        "    use_images=True,\n",
        ")"
      ]
    },
    {
      "cell_type": "markdown",
      "metadata": {
        "id": "i0vseMWmwUhr"
      },
      "source": [
        "These are some initial plots to help you visualize the outputs of your models. The blue values show the binary cross entropy loss per time step, the highest value will correspond to the most likely time to have a flood. The red curve correspond to the labels: a delta function that has a peak at the flooded time step. Remember, not all the event ids contain floods."
      ]
    },
    {
      "cell_type": "code",
      "execution_count": 34,
      "metadata": {
        "colab": {
          "base_uri": "https://localhost:8080/",
          "height": 472
        },
        "id": "jO9d3iHJ0qUF",
        "outputId": "ae8ec77b-a6ab-4738-d906-5a077e240ef4"
      },
      "outputs": [
        {
          "data": {
            "image/png": "[encoded data removed]",
            "text/plain": [
              "<Figure size 640x480 with 1 Axes>"
            ]
          },
          "metadata": {},
          "output_type": "display_data"
        }
      ],
      "source": [
        "event_id = 0\n",
        "x = np.arange(len(losses[event_id,:]))\n",
        "plt.title('Validation set results')\n",
        "plt.plot(x,losses[event_id,:], label='Predicted losses of flood', color='blue')\n",
        "plt.plot(x,valid_labels[event_id,:], label='Label for flooding event',color='red')\n",
        "plt.ylabel('Losses value for flood probability')\n",
        "plt.xlabel('event_t')\n",
        "plt.legend()\n",
        "plt.show()"
      ]
    },
    {
      "cell_type": "markdown",
      "metadata": {
        "id": "wDtfyF3mmye7"
      },
      "source": [
        "To run on the test set it is enough to call `get_prediction` function which applies the model given a set of inputs."
      ]
    },
    {
      "cell_type": "code",
      "execution_count": 35,
      "metadata": {
        "id": "9rlwtY9smzaR"
      },
      "outputs": [],
      "source": [
        "# Logits for the test set\n",
        "_, _, test_ds = get_datasets()\n",
        "test_inputs = (test_ds['timeseries'], test_ds['image'])\n",
        "_, logits = get_prediction(final_state, test_inputs,is_training=False,)"
      ]
    },
    {
      "cell_type": "markdown",
      "metadata": {
        "id": "fJ7OaVgtw3a0"
      },
      "source": [
        "This plot contains the same information as the blue curve of the previous one, only this time you do not have the labels, as these are the values you need to submit to Zindi."
      ]
    },
    {
      "cell_type": "code",
      "execution_count": 36,
      "metadata": {
        "colab": {
          "base_uri": "https://localhost:8080/",
          "height": 472
        },
        "id": "LfI_6H8ztlc_",
        "outputId": "39c8336f-fcc9-477a-98b8-ccc9153354c3"
      },
      "outputs": [
        {
          "data": {
            "image/png": "[encoded data removed]",
            "text/plain": [
              "<Figure size 640x480 with 1 Axes>"
            ]
          },
          "metadata": {},
          "output_type": "display_data"
        }
      ],
      "source": [
        "plt.plot(x,logits[event_id,:], color='green')\n",
        "plt.ylabel('Logit value for flood probability')\n",
        "plt.title('Test set results')\n",
        "plt.xlabel('event_t')\n",
        "plt.show()"
      ]
    },
    {
      "cell_type": "markdown",
      "metadata": {
        "id": "sEDxhSM2Zgvu"
      },
      "source": [
        "### Prepare submission file for scoring"
      ]
    },
    {
      "cell_type": "code",
      "execution_count": 37,
      "metadata": {
        "colab": {
          "base_uri": "https://localhost:8080/"
        },
        "id": "8w7hDxnzZl00",
        "outputId": "2dd2901d-e660-4150-9c8e-d1cf3bdf12e1"
      },
      "outputs": [
        {
          "data": {
            "text/plain": [
              "(224, 730)"
            ]
          },
          "execution_count": 37,
          "metadata": {},
          "output_type": "execute_result"
        }
      ],
      "source": [
        "def sigmoid(x):\n",
        "  return 1 / (1 + np.exp(-x))\n",
        "\n",
        "probs = sigmoid(logits)\n",
        "probs.shape"
      ]
    },
    {
      "cell_type": "code",
      "execution_count": 38,
      "metadata": {
        "colab": {
          "base_uri": "https://localhost:8080/",
          "height": 206
        },
        "id": "D2lj2SPDZftk",
        "outputId": "81088f74-fefe-4ec4-93f1-171de2b4a7c4"
      },
      "outputs": [
        {
          "data": {
            "text/html": [
              "<div>\n",
              "<style scoped>\n",
              "    .dataframe tbody tr th:only-of-type {\n",
              "        vertical-align: middle;\n",
              "    }\n",
              "\n",
              "    .dataframe tbody tr th {\n",
              "        vertical-align: top;\n",
              "    }\n",
              "\n",
              "    .dataframe thead th {\n",
              "        text-align: right;\n",
              "    }\n",
              "</style>\n",
              "<table border=\"1\" class=\"dataframe\">\n",
              "  <thead>\n",
              "    <tr style=\"text-align: right;\">\n",
              "      <th></th>\n",
              "      <th>event_id</th>\n",
              "      <th>label</th>\n",
              "    </tr>\n",
              "  </thead>\n",
              "  <tbody>\n",
              "    <tr>\n",
              "      <th>0</th>\n",
              "      <td>id_j7b6sokflo4k_X_0</td>\n",
              "      <td>0.000868</td>\n",
              "    </tr>\n",
              "    <tr>\n",
              "      <th>1</th>\n",
              "      <td>id_j7b6sokflo4k_X_1</td>\n",
              "      <td>0.000553</td>\n",
              "    </tr>\n",
              "    <tr>\n",
              "      <th>2</th>\n",
              "      <td>id_j7b6sokflo4k_X_2</td>\n",
              "      <td>0.000721</td>\n",
              "    </tr>\n",
              "    <tr>\n",
              "      <th>3</th>\n",
              "      <td>id_j7b6sokflo4k_X_3</td>\n",
              "      <td>0.000737</td>\n",
              "    </tr>\n",
              "    <tr>\n",
              "      <th>4</th>\n",
              "      <td>id_j7b6sokflo4k_X_4</td>\n",
              "      <td>0.000568</td>\n",
              "    </tr>\n",
              "  </tbody>\n",
              "</table>\n",
              "</div>"
            ],
            "text/plain": [
              "              event_id     label\n",
              "0  id_j7b6sokflo4k_X_0  0.000868\n",
              "1  id_j7b6sokflo4k_X_1  0.000553\n",
              "2  id_j7b6sokflo4k_X_2  0.000721\n",
              "3  id_j7b6sokflo4k_X_3  0.000737\n",
              "4  id_j7b6sokflo4k_X_4  0.000568"
            ]
          },
          "execution_count": 38,
          "metadata": {},
          "output_type": "execute_result"
        }
      ],
      "source": [
        "sample_submission = pd.read_csv(BASE_PATH + '/SampleSubmission.csv')\n",
        "sample_submission['label'] = probs.flatten()\n",
        "sample_submission.head()"
      ]
    },
    {
      "cell_type": "code",
      "execution_count": 30,
      "metadata": {
        "id": "6k_JotdFZr_4"
      },
      "outputs": [],
      "source": [
        "sample_submission.to_csv('BenchmarkSubmission.csv', index = False)"
      ]
    },
    {
      "cell_type": "markdown",
      "metadata": {
        "id": "YeueUgLzxEPo"
      },
      "source": [
        "**Good luck!**"
      ]
    }
  ],
  "metadata": {
    "accelerator": "TPU",
    "colab": {
      "gpuType": "V28",
      "provenance": []
    },
    "kernelspec": {
      "display_name": "base",
      "language": "python",
      "name": "python3"
    },
    "language_info": {
      "codemirror_mode": {
        "name": "ipython",
        "version": 3
      },
      "file_extension": ".py",
      "mimetype": "text/x-python",
      "name": "python",
      "nbconvert_exporter": "python",
      "pygments_lexer": "ipython3",
      "version": "3.11.7"
    },
    "widgets": {
      "application/vnd.jupyter.widget-state+json": {
        "04908695369c4c85a888a439744cbf48": {
          "model_module": "@jupyter-widgets/controls",
          "model_module_version": "1.5.0",
          "model_name": "FloatProgressModel",
          "state": {
            "_dom_classes": [],
            "_model_module": "@jupyter-widgets/controls",
            "_model_module_version": "1.5.0",
            "_model_name": "FloatProgressModel",
            "_view_count": null,
            "_view_module": "@jupyter-widgets/controls",
            "_view_module_version": "1.5.0",
            "_view_name": "ProgressView",
            "bar_style": "success",
            "description": "",
            "description_tooltip": null,
            "layout": "IPY_MODEL_f78b921579c948bd8d18ddc6f7eba2b2",
            "max": 224,
            "min": 0,
            "orientation": "horizontal",
            "style": "IPY_MODEL_e1cf012160a647aaa6d9261be26fe994",
            "value": 224
          }
        },
        "2aec8a82a8134511911cfd0e3131692b": {
          "model_module": "@jupyter-widgets/controls",
          "model_module_version": "1.5.0",
          "model_name": "DescriptionStyleModel",
          "state": {
            "_model_module": "@jupyter-widgets/controls",
            "_model_module_version": "1.5.0",
            "_model_name": "DescriptionStyleModel",
            "_view_count": null,
            "_view_module": "@jupyter-widgets/base",
            "_view_module_version": "1.2.0",
            "_view_name": "StyleView",
            "description_width": ""
          }
        },
        "2bad9c89bee0471ea7f7bd7258a214d5": {
          "model_module": "@jupyter-widgets/controls",
          "model_module_version": "1.5.0",
          "model_name": "FloatProgressModel",
          "state": {
            "_dom_classes": [],
            "_model_module": "@jupyter-widgets/controls",
            "_model_module_version": "1.5.0",
            "_model_name": "FloatProgressModel",
            "_view_count": null,
            "_view_module": "@jupyter-widgets/controls",
            "_view_module_version": "1.5.0",
            "_view_name": "ProgressView",
            "bar_style": "success",
            "description": "",
            "description_tooltip": null,
            "layout": "IPY_MODEL_d92ec41f33054c7387d3fe7957799fd2",
            "max": 674,
            "min": 0,
            "orientation": "horizontal",
            "style": "IPY_MODEL_a436d428ee234f718e8e1fb434492b98",
            "value": 674
          }
        },
        "5045aa58ccca49b19e1f7866b586dc1d": {
          "model_module": "@jupyter-widgets/controls",
          "model_module_version": "1.5.0",
          "model_name": "HTMLModel",
          "state": {
            "_dom_classes": [],
            "_model_module": "@jupyter-widgets/controls",
            "_model_module_version": "1.5.0",
            "_model_name": "HTMLModel",
            "_view_count": null,
            "_view_module": "@jupyter-widgets/controls",
            "_view_module_version": "1.5.0",
            "_view_name": "HTMLView",
            "description": "",
            "description_tooltip": null,
            "layout": "IPY_MODEL_79b8558f75b6455ba4fb7c4711afc892",
            "placeholder": "​",
            "style": "IPY_MODEL_f9815294a46c4583bdcbcbee14aa5cb1",
            "value": "100%"
          }
        },
        "6b9ed21060494f9086149bb6d4cd2261": {
          "model_module": "@jupyter-widgets/base",
          "model_module_version": "1.2.0",
          "model_name": "LayoutModel",
          "state": {
            "_model_module": "@jupyter-widgets/base",
            "_model_module_version": "1.2.0",
            "_model_name": "LayoutModel",
            "_view_count": null,
            "_view_module": "@jupyter-widgets/base",
            "_view_module_version": "1.2.0",
            "_view_name": "LayoutView",
            "align_content": null,
            "align_items": null,
            "align_self": null,
            "border": null,
            "bottom": null,
            "display": null,
            "flex": null,
            "flex_flow": null,
            "grid_area": null,
            "grid_auto_columns": null,
            "grid_auto_flow": null,
            "grid_auto_rows": null,
            "grid_column": null,
            "grid_gap": null,
            "grid_row": null,
            "grid_template_areas": null,
            "grid_template_columns": null,
            "grid_template_rows": null,
            "height": null,
            "justify_content": null,
            "justify_items": null,
            "left": null,
            "margin": null,
            "max_height": null,
            "max_width": null,
            "min_height": null,
            "min_width": null,
            "object_fit": null,
            "object_position": null,
            "order": null,
            "overflow": null,
            "overflow_x": null,
            "overflow_y": null,
            "padding": null,
            "right": null,
            "top": null,
            "visibility": null,
            "width": null
          }
        },
        "762e07e3bd394f33a7b530a8d1d0c990": {
          "model_module": "@jupyter-widgets/controls",
          "model_module_version": "1.5.0",
          "model_name": "DescriptionStyleModel",
          "state": {
            "_model_module": "@jupyter-widgets/controls",
            "_model_module_version": "1.5.0",
            "_model_name": "DescriptionStyleModel",
            "_view_count": null,
            "_view_module": "@jupyter-widgets/base",
            "_view_module_version": "1.2.0",
            "_view_name": "StyleView",
            "description_width": ""
          }
        },
        "78ece85b75b64c53a8bcc475d422df0d": {
          "model_module": "@jupyter-widgets/controls",
          "model_module_version": "1.5.0",
          "model_name": "HBoxModel",
          "state": {
            "_dom_classes": [],
            "_model_module": "@jupyter-widgets/controls",
            "_model_module_version": "1.5.0",
            "_model_name": "HBoxModel",
            "_view_count": null,
            "_view_module": "@jupyter-widgets/controls",
            "_view_module_version": "1.5.0",
            "_view_name": "HBoxView",
            "box_style": "",
            "children": [
              "IPY_MODEL_5045aa58ccca49b19e1f7866b586dc1d",
              "IPY_MODEL_04908695369c4c85a888a439744cbf48",
              "IPY_MODEL_aa7d02a9aca24c10af8ce2f56bd75952"
            ],
            "layout": "IPY_MODEL_8007f036268e453c83a7d992db4b2c0f"
          }
        },
        "79b8558f75b6455ba4fb7c4711afc892": {
          "model_module": "@jupyter-widgets/base",
          "model_module_version": "1.2.0",
          "model_name": "LayoutModel",
          "state": {
            "_model_module": "@jupyter-widgets/base",
            "_model_module_version": "1.2.0",
            "_model_name": "LayoutModel",
            "_view_count": null,
            "_view_module": "@jupyter-widgets/base",
            "_view_module_version": "1.2.0",
            "_view_name": "LayoutView",
            "align_content": null,
            "align_items": null,
            "align_self": null,
            "border": null,
            "bottom": null,
            "display": null,
            "flex": null,
            "flex_flow": null,
            "grid_area": null,
            "grid_auto_columns": null,
            "grid_auto_flow": null,
            "grid_auto_rows": null,
            "grid_column": null,
            "grid_gap": null,
            "grid_row": null,
            "grid_template_areas": null,
            "grid_template_columns": null,
            "grid_template_rows": null,
            "height": null,
            "justify_content": null,
            "justify_items": null,
            "left": null,
            "margin": null,
            "max_height": null,
            "max_width": null,
            "min_height": null,
            "min_width": null,
            "object_fit": null,
            "object_position": null,
            "order": null,
            "overflow": null,
            "overflow_x": null,
            "overflow_y": null,
            "padding": null,
            "right": null,
            "top": null,
            "visibility": null,
            "width": null
          }
        },
        "8007f036268e453c83a7d992db4b2c0f": {
          "model_module": "@jupyter-widgets/base",
          "model_module_version": "1.2.0",
          "model_name": "LayoutModel",
          "state": {
            "_model_module": "@jupyter-widgets/base",
            "_model_module_version": "1.2.0",
            "_model_name": "LayoutModel",
            "_view_count": null,
            "_view_module": "@jupyter-widgets/base",
            "_view_module_version": "1.2.0",
            "_view_name": "LayoutView",
            "align_content": null,
            "align_items": null,
            "align_self": null,
            "border": null,
            "bottom": null,
            "display": null,
            "flex": null,
            "flex_flow": null,
            "grid_area": null,
            "grid_auto_columns": null,
            "grid_auto_flow": null,
            "grid_auto_rows": null,
            "grid_column": null,
            "grid_gap": null,
            "grid_row": null,
            "grid_template_areas": null,
            "grid_template_columns": null,
            "grid_template_rows": null,
            "height": null,
            "justify_content": null,
            "justify_items": null,
            "left": null,
            "margin": null,
            "max_height": null,
            "max_width": null,
            "min_height": null,
            "min_width": null,
            "object_fit": null,
            "object_position": null,
            "order": null,
            "overflow": null,
            "overflow_x": null,
            "overflow_y": null,
            "padding": null,
            "right": null,
            "top": null,
            "visibility": null,
            "width": null
          }
        },
        "887f21b8db574156b45286ffc2da33ad": {
          "model_module": "@jupyter-widgets/controls",
          "model_module_version": "1.5.0",
          "model_name": "HBoxModel",
          "state": {
            "_dom_classes": [],
            "_model_module": "@jupyter-widgets/controls",
            "_model_module_version": "1.5.0",
            "_model_name": "HBoxModel",
            "_view_count": null,
            "_view_module": "@jupyter-widgets/controls",
            "_view_module_version": "1.5.0",
            "_view_name": "HBoxView",
            "box_style": "",
            "children": [
              "IPY_MODEL_aaf82131416e463389504e7615d6ebdb",
              "IPY_MODEL_2bad9c89bee0471ea7f7bd7258a214d5",
              "IPY_MODEL_9d0263f272774976925782d9451ee033"
            ],
            "layout": "IPY_MODEL_f5f7aa1b0ea44f3cac94878aaa073708"
          }
        },
        "9d0263f272774976925782d9451ee033": {
          "model_module": "@jupyter-widgets/controls",
          "model_module_version": "1.5.0",
          "model_name": "HTMLModel",
          "state": {
            "_dom_classes": [],
            "_model_module": "@jupyter-widgets/controls",
            "_model_module_version": "1.5.0",
            "_model_name": "HTMLModel",
            "_view_count": null,
            "_view_module": "@jupyter-widgets/controls",
            "_view_module_version": "1.5.0",
            "_view_name": "HTMLView",
            "description": "",
            "description_tooltip": null,
            "layout": "IPY_MODEL_cf336f852c1943ccbccf5f7c96d14f7f",
            "placeholder": "​",
            "style": "IPY_MODEL_d05d3e2f52d54ab2b45fdca9adc41edd",
            "value": " 674/674 [00:01&lt;00:00, 378.09it/s]"
          }
        },
        "a436d428ee234f718e8e1fb434492b98": {
          "model_module": "@jupyter-widgets/controls",
          "model_module_version": "1.5.0",
          "model_name": "ProgressStyleModel",
          "state": {
            "_model_module": "@jupyter-widgets/controls",
            "_model_module_version": "1.5.0",
            "_model_name": "ProgressStyleModel",
            "_view_count": null,
            "_view_module": "@jupyter-widgets/base",
            "_view_module_version": "1.2.0",
            "_view_name": "StyleView",
            "bar_color": null,
            "description_width": ""
          }
        },
        "aa7d02a9aca24c10af8ce2f56bd75952": {
          "model_module": "@jupyter-widgets/controls",
          "model_module_version": "1.5.0",
          "model_name": "HTMLModel",
          "state": {
            "_dom_classes": [],
            "_model_module": "@jupyter-widgets/controls",
            "_model_module_version": "1.5.0",
            "_model_name": "HTMLModel",
            "_view_count": null,
            "_view_module": "@jupyter-widgets/controls",
            "_view_module_version": "1.5.0",
            "_view_name": "HTMLView",
            "description": "",
            "description_tooltip": null,
            "layout": "IPY_MODEL_b20b1f939d364536a8d276180bf40e49",
            "placeholder": "​",
            "style": "IPY_MODEL_2aec8a82a8134511911cfd0e3131692b",
            "value": " 224/224 [00:00&lt;00:00, 362.82it/s]"
          }
        },
        "aaf82131416e463389504e7615d6ebdb": {
          "model_module": "@jupyter-widgets/controls",
          "model_module_version": "1.5.0",
          "model_name": "HTMLModel",
          "state": {
            "_dom_classes": [],
            "_model_module": "@jupyter-widgets/controls",
            "_model_module_version": "1.5.0",
            "_model_name": "HTMLModel",
            "_view_count": null,
            "_view_module": "@jupyter-widgets/controls",
            "_view_module_version": "1.5.0",
            "_view_name": "HTMLView",
            "description": "",
            "description_tooltip": null,
            "layout": "IPY_MODEL_6b9ed21060494f9086149bb6d4cd2261",
            "placeholder": "​",
            "style": "IPY_MODEL_762e07e3bd394f33a7b530a8d1d0c990",
            "value": "100%"
          }
        },
        "b20b1f939d364536a8d276180bf40e49": {
          "model_module": "@jupyter-widgets/base",
          "model_module_version": "1.2.0",
          "model_name": "LayoutModel",
          "state": {
            "_model_module": "@jupyter-widgets/base",
            "_model_module_version": "1.2.0",
            "_model_name": "LayoutModel",
            "_view_count": null,
            "_view_module": "@jupyter-widgets/base",
            "_view_module_version": "1.2.0",
            "_view_name": "LayoutView",
            "align_content": null,
            "align_items": null,
            "align_self": null,
            "border": null,
            "bottom": null,
            "display": null,
            "flex": null,
            "flex_flow": null,
            "grid_area": null,
            "grid_auto_columns": null,
            "grid_auto_flow": null,
            "grid_auto_rows": null,
            "grid_column": null,
            "grid_gap": null,
            "grid_row": null,
            "grid_template_areas": null,
            "grid_template_columns": null,
            "grid_template_rows": null,
            "height": null,
            "justify_content": null,
            "justify_items": null,
            "left": null,
            "margin": null,
            "max_height": null,
            "max_width": null,
            "min_height": null,
            "min_width": null,
            "object_fit": null,
            "object_position": null,
            "order": null,
            "overflow": null,
            "overflow_x": null,
            "overflow_y": null,
            "padding": null,
            "right": null,
            "top": null,
            "visibility": null,
            "width": null
          }
        },
        "cf336f852c1943ccbccf5f7c96d14f7f": {
          "model_module": "@jupyter-widgets/base",
          "model_module_version": "1.2.0",
          "model_name": "LayoutModel",
          "state": {
            "_model_module": "@jupyter-widgets/base",
            "_model_module_version": "1.2.0",
            "_model_name": "LayoutModel",
            "_view_count": null,
            "_view_module": "@jupyter-widgets/base",
            "_view_module_version": "1.2.0",
            "_view_name": "LayoutView",
            "align_content": null,
            "align_items": null,
            "align_self": null,
            "border": null,
            "bottom": null,
            "display": null,
            "flex": null,
            "flex_flow": null,
            "grid_area": null,
            "grid_auto_columns": null,
            "grid_auto_flow": null,
            "grid_auto_rows": null,
            "grid_column": null,
            "grid_gap": null,
            "grid_row": null,
            "grid_template_areas": null,
            "grid_template_columns": null,
            "grid_template_rows": null,
            "height": null,
            "justify_content": null,
            "justify_items": null,
            "left": null,
            "margin": null,
            "max_height": null,
            "max_width": null,
            "min_height": null,
            "min_width": null,
            "object_fit": null,
            "object_position": null,
            "order": null,
            "overflow": null,
            "overflow_x": null,
            "overflow_y": null,
            "padding": null,
            "right": null,
            "top": null,
            "visibility": null,
            "width": null
          }
        },
        "d05d3e2f52d54ab2b45fdca9adc41edd": {
          "model_module": "@jupyter-widgets/controls",
          "model_module_version": "1.5.0",
          "model_name": "DescriptionStyleModel",
          "state": {
            "_model_module": "@jupyter-widgets/controls",
            "_model_module_version": "1.5.0",
            "_model_name": "DescriptionStyleModel",
            "_view_count": null,
            "_view_module": "@jupyter-widgets/base",
            "_view_module_version": "1.2.0",
            "_view_name": "StyleView",
            "description_width": ""
          }
        },
        "d92ec41f33054c7387d3fe7957799fd2": {
          "model_module": "@jupyter-widgets/base",
          "model_module_version": "1.2.0",
          "model_name": "LayoutModel",
          "state": {
            "_model_module": "@jupyter-widgets/base",
            "_model_module_version": "1.2.0",
            "_model_name": "LayoutModel",
            "_view_count": null,
            "_view_module": "@jupyter-widgets/base",
            "_view_module_version": "1.2.0",
            "_view_name": "LayoutView",
            "align_content": null,
            "align_items": null,
            "align_self": null,
            "border": null,
            "bottom": null,
            "display": null,
            "flex": null,
            "flex_flow": null,
            "grid_area": null,
            "grid_auto_columns": null,
            "grid_auto_flow": null,
            "grid_auto_rows": null,
            "grid_column": null,
            "grid_gap": null,
            "grid_row": null,
            "grid_template_areas": null,
            "grid_template_columns": null,
            "grid_template_rows": null,
            "height": null,
            "justify_content": null,
            "justify_items": null,
            "left": null,
            "margin": null,
            "max_height": null,
            "max_width": null,
            "min_height": null,
            "min_width": null,
            "object_fit": null,
            "object_position": null,
            "order": null,
            "overflow": null,
            "overflow_x": null,
            "overflow_y": null,
            "padding": null,
            "right": null,
            "top": null,
            "visibility": null,
            "width": null
          }
        },
        "e1cf012160a647aaa6d9261be26fe994": {
          "model_module": "@jupyter-widgets/controls",
          "model_module_version": "1.5.0",
          "model_name": "ProgressStyleModel",
          "state": {
            "_model_module": "@jupyter-widgets/controls",
            "_model_module_version": "1.5.0",
            "_model_name": "ProgressStyleModel",
            "_view_count": null,
            "_view_module": "@jupyter-widgets/base",
            "_view_module_version": "1.2.0",
            "_view_name": "StyleView",
            "bar_color": null,
            "description_width": ""
          }
        },
        "f5f7aa1b0ea44f3cac94878aaa073708": {
          "model_module": "@jupyter-widgets/base",
          "model_module_version": "1.2.0",
          "model_name": "LayoutModel",
          "state": {
            "_model_module": "@jupyter-widgets/base",
            "_model_module_version": "1.2.0",
            "_model_name": "LayoutModel",
            "_view_count": null,
            "_view_module": "@jupyter-widgets/base",
            "_view_module_version": "1.2.0",
            "_view_name": "LayoutView",
            "align_content": null,
            "align_items": null,
            "align_self": null,
            "border": null,
            "bottom": null,
            "display": null,
            "flex": null,
            "flex_flow": null,
            "grid_area": null,
            "grid_auto_columns": null,
            "grid_auto_flow": null,
            "grid_auto_rows": null,
            "grid_column": null,
            "grid_gap": null,
            "grid_row": null,
            "grid_template_areas": null,
            "grid_template_columns": null,
            "grid_template_rows": null,
            "height": null,
            "justify_content": null,
            "justify_items": null,
            "left": null,
            "margin": null,
            "max_height": null,
            "max_width": null,
            "min_height": null,
            "min_width": null,
            "object_fit": null,
            "object_position": null,
            "order": null,
            "overflow": null,
            "overflow_x": null,
            "overflow_y": null,
            "padding": null,
            "right": null,
            "top": null,
            "visibility": null,
            "width": null
          }
        },
        "f78b921579c948bd8d18ddc6f7eba2b2": {
          "model_module": "@jupyter-widgets/base",
          "model_module_version": "1.2.0",
          "model_name": "LayoutModel",
          "state": {
            "_model_module": "@jupyter-widgets/base",
            "_model_module_version": "1.2.0",
            "_model_name": "LayoutModel",
            "_view_count": null,
            "_view_module": "@jupyter-widgets/base",
            "_view_module_version": "1.2.0",
            "_view_name": "LayoutView",
            "align_content": null,
            "align_items": null,
            "align_self": null,
            "border": null,
            "bottom": null,
            "display": null,
            "flex": null,
            "flex_flow": null,
            "grid_area": null,
            "grid_auto_columns": null,
            "grid_auto_flow": null,
            "grid_auto_rows": null,
            "grid_column": null,
            "grid_gap": null,
            "grid_row": null,
            "grid_template_areas": null,
            "grid_template_columns": null,
            "grid_template_rows": null,
            "height": null,
            "justify_content": null,
            "justify_items": null,
            "left": null,
            "margin": null,
            "max_height": null,
            "max_width": null,
            "min_height": null,
            "min_width": null,
            "object_fit": null,
            "object_position": null,
            "order": null,
            "overflow": null,
            "overflow_x": null,
            "overflow_y": null,
            "padding": null,
            "right": null,
            "top": null,
            "visibility": null,
            "width": null
          }
        },
        "f9815294a46c4583bdcbcbee14aa5cb1": {
          "model_module": "@jupyter-widgets/controls",
          "model_module_version": "1.5.0",
          "model_name": "DescriptionStyleModel",
          "state": {
            "_model_module": "@jupyter-widgets/controls",
            "_model_module_version": "1.5.0",
            "_model_name": "DescriptionStyleModel",
            "_view_count": null,
            "_view_module": "@jupyter-widgets/base",
            "_view_module_version": "1.2.0",
            "_view_name": "StyleView",
            "description_width": ""
          }
        }
      }
    }
  },
  "nbformat": 4,
  "nbformat_minor": 0
}
