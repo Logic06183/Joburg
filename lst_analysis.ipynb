{
 "cells": [
  {
   "cell_type": "markdown",
   "metadata": {},
   "source": [
    "# Historical Land Surface Temperature Analysis Around Rahima Moosa Hospital\n",
    "This notebook analyzes Land Surface Temperature (LST) patterns around Rahima Moosa Hospital across three historical periods."
   ]
  },
  {
   "cell_type": "code",
   "execution_count": 1,
   "metadata": {},
   "outputs": [],
   "source": [
    "import ee\n",
    "import geemap\n",
    "import numpy as np\n",
    "from datetime import datetime\n",
    "from tqdm.notebook import tqdm\n",
    "\n",
    "# Initialize Earth Engine\n",
    "try:\n",
    "    ee.Initialize()\n",
    "except Exception as e:\n",
    "    print(\"Error initializing Earth Engine. Please authenticate first.\")\n",
    "    print(\"Run 'earthengine authenticate' in your terminal.\")\n",
    "    raise e"
   ]
  },
  {
   "cell_type": "code",
   "execution_count": 2,
   "metadata": {},
   "outputs": [
    {
     "data": {
      "text/html": [
       "\n",
       "            <style>\n",
       "                .geemap-dark {\n",
       "                    --jp-widgets-color: white;\n",
       "                    --jp-widgets-label-color: white;\n",
       "                    --jp-ui-font-color1: white;\n",
       "                    --jp-layout-color2: #454545;\n",
       "                    background-color: #383838;\n",
       "                }\n",
       "\n",
       "                .geemap-dark .jupyter-button {\n",
       "                    --jp-layout-color3: #383838;\n",
       "                }\n",
       "\n",
       "                .geemap-colab {\n",
       "                    background-color: var(--colab-primary-surface-color, white);\n",
       "                }\n",
       "\n",
       "                .geemap-colab .jupyter-button {\n",
       "                    --jp-layout-color3: var(--colab-primary-surface-color, white);\n",
       "                }\n",
       "            </style>\n",
       "            "
      ],
      "text/plain": [
       "<IPython.core.display.HTML object>"
      ]
     },
     "metadata": {},
     "output_type": "display_data"
    }
   ],
   "source": [
    "# Define constants\n",
    "HOSPITAL_LAT = -26.1752\n",
    "HOSPITAL_LON = 28.0183\n",
    "JOBURG_CENTER = ee.Geometry.Point([HOSPITAL_LON, HOSPITAL_LAT])\n",
    "BUFFER_DISTANCE = 5000  # 5km buffer\n",
    "JOBURG_AREA = JOBURG_CENTER.buffer(BUFFER_DISTANCE)\n",
    "\n",
    "# Define a more pronounced color palette for LST\n",
    "LST_PALETTE = [\n",
    "    '#313695',  # Deep blue (coldest)\n",
    "    '#74add1',  # Light blue\n",
    "    '#fed976',  # Light orange\n",
    "    '#fd8d3c',  # Orange\n",
    "    '#f03b20',  # Red-orange\n",
    "    '#bd0026'   # Deep red (hottest)\n",
    "]"
   ]
  },
  {
   "cell_type": "code",
   "execution_count": 5,
   "metadata": {},
   "outputs": [
    {
     "data": {
      "text/html": [
       "\n",
       "            <style>\n",
       "                .geemap-dark {\n",
       "                    --jp-widgets-color: white;\n",
       "                    --jp-widgets-label-color: white;\n",
       "                    --jp-ui-font-color1: white;\n",
       "                    --jp-layout-color2: #454545;\n",
       "                    background-color: #383838;\n",
       "                }\n",
       "\n",
       "                .geemap-dark .jupyter-button {\n",
       "                    --jp-layout-color3: #383838;\n",
       "                }\n",
       "\n",
       "                .geemap-colab {\n",
       "                    background-color: var(--colab-primary-surface-color, white);\n",
       "                }\n",
       "\n",
       "                .geemap-colab .jupyter-button {\n",
       "                    --jp-layout-color3: var(--colab-primary-surface-color, white);\n",
       "                }\n",
       "            </style>\n",
       "            "
      ],
      "text/plain": [
       "<IPython.core.display.HTML object>"
      ]
     },
     "metadata": {},
     "output_type": "display_data"
    },
    {
     "data": {
      "application/vnd.jupyter.widget-view+json": {
       "model_id": "5971ad4be91045d1b1c42f523fbda7d2",
       "version_major": 2,
       "version_minor": 0
      },
      "text/plain": [
       "Map(center=[-26.1752, 28.0183], controls=(WidgetControl(options=['position', 'transparent_bg'], widget=SearchD…"
      ]
     },
     "metadata": {},
     "output_type": "display_data"
    },
    {
     "data": {
      "application/vnd.jupyter.widget-view+json": {
       "model_id": "f5486b19223a49fbb29d5b3e0dd36180",
       "version_major": 2,
       "version_minor": 0
      },
      "text/plain": [
       "Map(center=[-26.1752, 28.0183], controls=(WidgetControl(options=['position', 'transparent_bg'], widget=SearchD…"
      ]
     },
     "metadata": {},
     "output_type": "display_data"
    },
    {
     "data": {
      "application/vnd.jupyter.widget-view+json": {
       "model_id": "1603794c26d946a7bcf0440ba3355b9f",
       "version_major": 2,
       "version_minor": 0
      },
      "text/plain": [
       "Map(center=[-26.1752, 28.0183], controls=(WidgetControl(options=['position', 'transparent_bg'], widget=SearchD…"
      ]
     },
     "metadata": {},
     "output_type": "display_data"
    }
   ],
   "source": [
    "import ee\n",
    "import geemap\n",
    "import numpy as np\n",
    "from datetime import datetime\n",
    "from tqdm.notebook import tqdm\n",
    "\n",
    "# Initialize Earth Engine\n",
    "try:\n",
    "    ee.Initialize()\n",
    "except Exception as e:\n",
    "    print(\"Error initializing Earth Engine. Please authenticate first.\")\n",
    "    print(\"Run 'earthengine authenticate' in your terminal.\")\n",
    "    raise e\n",
    "\n",
    "# Define constants\n",
    "HOSPITAL_LAT = -26.1752\n",
    "HOSPITAL_LON = 28.0183\n",
    "JOBURG_CENTER = ee.Geometry.Point([HOSPITAL_LON, HOSPITAL_LAT])\n",
    "BUFFER_DISTANCE = 5000  # 5km buffer\n",
    "JOBURG_AREA = JOBURG_CENTER.buffer(BUFFER_DISTANCE)\n",
    "\n",
    "# Define visualization parameters for LST\n",
    "LST_VIS_PARAMS = {\n",
    "    'min': 22,\n",
    "    'max': 38,\n",
    "    'palette': [\n",
    "        '#313695',  # Deep blue (coldest)\n",
    "        '#74add1',  # Light blue\n",
    "        '#fed976',  # Light orange\n",
    "        '#fd8d3c',  # Orange\n",
    "        '#f03b20',  # Red-orange\n",
    "        '#bd0026'   # Deep red (hottest)\n",
    "    ]\n",
    "}\n",
    "\n",
    "def get_landsat_collection(start_year, end_year, months=[9,10,11,12,1,2]):\n",
    "    \"\"\"Get Landsat collection for the specified time period.\"\"\"\n",
    "    # Use Landsat 8 for recent and Landsat 5 for historical\n",
    "    if start_year >= 2013:\n",
    "        collection = ee.ImageCollection('LANDSAT/LC08/C02/T1_L2')\n",
    "        thermal_band = 'ST_B10'\n",
    "    else:\n",
    "        collection = ee.ImageCollection('LANDSAT/LT05/C02/T1_L2')\n",
    "        thermal_band = 'ST_B6'\n",
    "    \n",
    "    mult = 0.00341802\n",
    "    add = 149.0\n",
    "    \n",
    "    # Filter by date and area\n",
    "    filtered = collection.filterBounds(JOBURG_AREA) \\\n",
    "        .filter(ee.Filter.calendarRange(start_year, end_year, 'year')) \\\n",
    "        .filter(ee.Filter.calendarRange(months[0], months[-1], 'month'))\n",
    "    \n",
    "    return filtered, thermal_band, mult, add\n",
    "\n",
    "def calculate_lst(image, thermal_band, mult, add):\n",
    "    \"\"\"Calculate Land Surface Temperature in Celsius.\"\"\"\n",
    "    lst = image.select(thermal_band).multiply(mult).add(add).subtract(273.15)\n",
    "    return image.addBands(lst.rename('LST'))\n",
    "\n",
    "def create_lst_map(start_year, end_year, title):\n",
    "    \"\"\"Create a map showing LST for the specified period.\"\"\"\n",
    "    Map = geemap.Map(center=[HOSPITAL_LAT, HOSPITAL_LON], zoom=13)\n",
    "    Map.add_basemap('HYBRID')\n",
    "    \n",
    "    # Get data\n",
    "    collection, thermal_band, mult, add = get_landsat_collection(start_year, end_year)\n",
    "    processed = collection.map(lambda img: calculate_lst(img, thermal_band, mult, add))\n",
    "    \n",
    "    # Calculate mean LST\n",
    "    mean_lst = processed.select('LST').mean()\n",
    "    \n",
    "    # Add LST layer with pronounced colors\n",
    "    Map.addLayer(\n",
    "        mean_lst, \n",
    "        LST_VIS_PARAMS,\n",
    "        f'LST ({start_year}-{end_year})'\n",
    "    )\n",
    "    \n",
    "    # Add hospital marker and buffer\n",
    "    circle = ee.Geometry.Point([HOSPITAL_LON, HOSPITAL_LAT]).buffer(BUFFER_DISTANCE)\n",
    "    Map.addLayer(circle, {'color': 'white', 'fillColor': '00000000'}, '5km Buffer')\n",
    "    hospital = ee.Geometry.Point([HOSPITAL_LON, HOSPITAL_LAT])\n",
    "    Map.addLayer(hospital, {'color': 'white'}, 'Rahima Moosa Hospital')\n",
    "    \n",
    "    # Add colorbar using vis_params\n",
    "    Map.add_colorbar(\n",
    "        vis_params=LST_VIS_PARAMS,\n",
    "        label='Land Surface Temperature (°C)',\n",
    "        orientation='horizontal',\n",
    "        transparent_bg=True\n",
    "    )\n",
    "    \n",
    "    return Map\n",
    "\n",
    "# Create maps for three periods\n",
    "Map1 = create_lst_map(1990, 1999, 'Early Period')\n",
    "display(Map1)\n",
    "\n",
    "Map2 = create_lst_map(2000, 2009, 'Mid Period')\n",
    "display(Map2)\n",
    "\n",
    "Map3 = create_lst_map(2014, 2023, 'Recent Period')\n",
    "display(Map3)"
   ]
  },
  {
   "cell_type": "markdown",
   "metadata": {},
   "source": [
    "## Early Period (1990-1999)"
   ]
  },
  {
   "cell_type": "code",
   "execution_count": 4,
   "metadata": {},
   "outputs": [
    {
     "data": {
      "text/html": [
       "\n",
       "            <style>\n",
       "                .geemap-dark {\n",
       "                    --jp-widgets-color: white;\n",
       "                    --jp-widgets-label-color: white;\n",
       "                    --jp-ui-font-color1: white;\n",
       "                    --jp-layout-color2: #454545;\n",
       "                    background-color: #383838;\n",
       "                }\n",
       "\n",
       "                .geemap-dark .jupyter-button {\n",
       "                    --jp-layout-color3: #383838;\n",
       "                }\n",
       "\n",
       "                .geemap-colab {\n",
       "                    background-color: var(--colab-primary-surface-color, white);\n",
       "                }\n",
       "\n",
       "                .geemap-colab .jupyter-button {\n",
       "                    --jp-layout-color3: var(--colab-primary-surface-color, white);\n",
       "                }\n",
       "            </style>\n",
       "            "
      ],
      "text/plain": [
       "<IPython.core.display.HTML object>"
      ]
     },
     "metadata": {},
     "output_type": "display_data"
    },
    {
     "ename": "TypeError",
     "evalue": "Colorbar.__init__() got an unexpected keyword argument 'colors'",
     "output_type": "error",
     "traceback": [
      "\u001b[1;31m---------------------------------------------------------------------------\u001b[0m",
      "\u001b[1;31mTypeError\u001b[0m                                 Traceback (most recent call last)",
      "Cell \u001b[1;32mIn[4], line 1\u001b[0m\n\u001b[1;32m----> 1\u001b[0m Map1 \u001b[38;5;241m=\u001b[39m create_lst_map(\u001b[38;5;241m1990\u001b[39m, \u001b[38;5;241m1999\u001b[39m, \u001b[38;5;124m'\u001b[39m\u001b[38;5;124mEarly Period\u001b[39m\u001b[38;5;124m'\u001b[39m)\n\u001b[0;32m      2\u001b[0m Map1\n",
      "Cell \u001b[1;32mIn[3], line 56\u001b[0m, in \u001b[0;36mcreate_lst_map\u001b[1;34m(start_year, end_year, title)\u001b[0m\n\u001b[0;32m     53\u001b[0m Map\u001b[38;5;241m.\u001b[39maddLayer(hospital, {\u001b[38;5;124m'\u001b[39m\u001b[38;5;124mcolor\u001b[39m\u001b[38;5;124m'\u001b[39m: \u001b[38;5;124m'\u001b[39m\u001b[38;5;124mwhite\u001b[39m\u001b[38;5;124m'\u001b[39m}, \u001b[38;5;124m'\u001b[39m\u001b[38;5;124mRahima Moosa Hospital\u001b[39m\u001b[38;5;124m'\u001b[39m)\n\u001b[0;32m     55\u001b[0m \u001b[38;5;66;03m# Add a colorbar\u001b[39;00m\n\u001b[1;32m---> 56\u001b[0m Map\u001b[38;5;241m.\u001b[39madd_colorbar(\n\u001b[0;32m     57\u001b[0m     colors\u001b[38;5;241m=\u001b[39mLST_PALETTE,\n\u001b[0;32m     58\u001b[0m     vmin\u001b[38;5;241m=\u001b[39m\u001b[38;5;241m22\u001b[39m,\n\u001b[0;32m     59\u001b[0m     vmax\u001b[38;5;241m=\u001b[39m\u001b[38;5;241m38\u001b[39m,\n\u001b[0;32m     60\u001b[0m     label\u001b[38;5;241m=\u001b[39m\u001b[38;5;124m'\u001b[39m\u001b[38;5;124mLand Surface Temperature (°C)\u001b[39m\u001b[38;5;124m'\u001b[39m\n\u001b[0;32m     61\u001b[0m )\n\u001b[0;32m     63\u001b[0m \u001b[38;5;28;01mreturn\u001b[39;00m Map\n",
      "File \u001b[1;32mc:\\Users\\craigparker\\Anaconda3\\Lib\\site-packages\\geemap\\geemap.py:946\u001b[0m, in \u001b[0;36mMap.add_colorbar\u001b[1;34m(self, vis_params, cmap, discrete, label, orientation, position, transparent_bg, layer_name, font_size, axis_off, max_width, **kwargs)\u001b[0m\n\u001b[0;32m    907\u001b[0m \u001b[38;5;28;01mdef\u001b[39;00m \u001b[38;5;21madd_colorbar\u001b[39m(\n\u001b[0;32m    908\u001b[0m     \u001b[38;5;28mself\u001b[39m,\n\u001b[0;32m    909\u001b[0m     vis_params: Optional[Dict[\u001b[38;5;28mstr\u001b[39m, Any]] \u001b[38;5;241m=\u001b[39m \u001b[38;5;28;01mNone\u001b[39;00m,\n\u001b[1;32m   (...)\u001b[0m\n\u001b[0;32m    920\u001b[0m     \u001b[38;5;241m*\u001b[39m\u001b[38;5;241m*\u001b[39mkwargs: Any,\n\u001b[0;32m    921\u001b[0m ) \u001b[38;5;241m-\u001b[39m\u001b[38;5;241m>\u001b[39m \u001b[38;5;28;01mNone\u001b[39;00m:\n\u001b[0;32m    922\u001b[0m \u001b[38;5;250m    \u001b[39m\u001b[38;5;124;03m\"\"\"Add a matplotlib colorbar to the map\u001b[39;00m\n\u001b[0;32m    923\u001b[0m \n\u001b[0;32m    924\u001b[0m \u001b[38;5;124;03m    Args:\u001b[39;00m\n\u001b[1;32m   (...)\u001b[0m\n\u001b[0;32m    943\u001b[0m \u001b[38;5;124;03m        TypeError: If cmap or palette is not provided.\u001b[39;00m\n\u001b[0;32m    944\u001b[0m \u001b[38;5;124;03m    \"\"\"\u001b[39;00m\n\u001b[1;32m--> 946\u001b[0m     colorbar \u001b[38;5;241m=\u001b[39m \u001b[38;5;28mself\u001b[39m\u001b[38;5;241m.\u001b[39m_add_colorbar(\n\u001b[0;32m    947\u001b[0m         vis_params,\n\u001b[0;32m    948\u001b[0m         cmap,\n\u001b[0;32m    949\u001b[0m         discrete,\n\u001b[0;32m    950\u001b[0m         label,\n\u001b[0;32m    951\u001b[0m         orientation,\n\u001b[0;32m    952\u001b[0m         position,\n\u001b[0;32m    953\u001b[0m         transparent_bg,\n\u001b[0;32m    954\u001b[0m         layer_name,\n\u001b[0;32m    955\u001b[0m         font_size,\n\u001b[0;32m    956\u001b[0m         axis_off,\n\u001b[0;32m    957\u001b[0m         max_width,\n\u001b[0;32m    958\u001b[0m         \u001b[38;5;241m*\u001b[39m\u001b[38;5;241m*\u001b[39mkwargs,\n\u001b[0;32m    959\u001b[0m     )\n\u001b[0;32m    960\u001b[0m     \u001b[38;5;28mself\u001b[39m\u001b[38;5;241m.\u001b[39m_colorbar \u001b[38;5;241m=\u001b[39m colorbar\n\u001b[0;32m    961\u001b[0m     \u001b[38;5;28;01mif\u001b[39;00m \u001b[38;5;129;01mnot\u001b[39;00m \u001b[38;5;28mhasattr\u001b[39m(\u001b[38;5;28mself\u001b[39m, \u001b[38;5;124m\"\u001b[39m\u001b[38;5;124mcolorbars\u001b[39m\u001b[38;5;124m\"\u001b[39m):\n",
      "File \u001b[1;32mc:\\Users\\craigparker\\Anaconda3\\Lib\\site-packages\\geemap\\core.py:1225\u001b[0m, in \u001b[0;36mMap._add_colorbar\u001b[1;34m(self, vis_params, cmap, discrete, label, orientation, position, transparent_bg, layer_name, font_size, axis_off, max_width, **kwargs)\u001b[0m\n\u001b[0;32m   1187\u001b[0m \u001b[38;5;28;01mdef\u001b[39;00m \u001b[38;5;21m_add_colorbar\u001b[39m(\n\u001b[0;32m   1188\u001b[0m     \u001b[38;5;28mself\u001b[39m,\n\u001b[0;32m   1189\u001b[0m     vis_params: Optional[Dict[\u001b[38;5;28mstr\u001b[39m, Any]] \u001b[38;5;241m=\u001b[39m \u001b[38;5;28;01mNone\u001b[39;00m,\n\u001b[1;32m   (...)\u001b[0m\n\u001b[0;32m   1200\u001b[0m     \u001b[38;5;241m*\u001b[39m\u001b[38;5;241m*\u001b[39mkwargs: Any,\n\u001b[0;32m   1201\u001b[0m ) \u001b[38;5;241m-\u001b[39m\u001b[38;5;241m>\u001b[39m ipyleaflet\u001b[38;5;241m.\u001b[39mWidgetControl:\n\u001b[0;32m   1202\u001b[0m \u001b[38;5;250m    \u001b[39m\u001b[38;5;124;03m\"\"\"Add a matplotlib colorbar to the map.\u001b[39;00m\n\u001b[0;32m   1203\u001b[0m \n\u001b[0;32m   1204\u001b[0m \u001b[38;5;124;03m    Args:\u001b[39;00m\n\u001b[1;32m   (...)\u001b[0m\n\u001b[0;32m   1223\u001b[0m \u001b[38;5;124;03m        TypeError: If cmap or palette is not provided.\u001b[39;00m\n\u001b[0;32m   1224\u001b[0m \u001b[38;5;124;03m    \"\"\"\u001b[39;00m\n\u001b[1;32m-> 1225\u001b[0m     colorbar \u001b[38;5;241m=\u001b[39m map_widgets\u001b[38;5;241m.\u001b[39mColorbar(\n\u001b[0;32m   1226\u001b[0m         vis_params,\n\u001b[0;32m   1227\u001b[0m         cmap,\n\u001b[0;32m   1228\u001b[0m         discrete,\n\u001b[0;32m   1229\u001b[0m         label,\n\u001b[0;32m   1230\u001b[0m         orientation,\n\u001b[0;32m   1231\u001b[0m         transparent_bg,\n\u001b[0;32m   1232\u001b[0m         font_size,\n\u001b[0;32m   1233\u001b[0m         axis_off,\n\u001b[0;32m   1234\u001b[0m         max_width,\n\u001b[0;32m   1235\u001b[0m         \u001b[38;5;241m*\u001b[39m\u001b[38;5;241m*\u001b[39mkwargs,\n\u001b[0;32m   1236\u001b[0m     )\n\u001b[0;32m   1237\u001b[0m     control \u001b[38;5;241m=\u001b[39m ipyleaflet\u001b[38;5;241m.\u001b[39mWidgetControl(widget\u001b[38;5;241m=\u001b[39mcolorbar, position\u001b[38;5;241m=\u001b[39mposition)\n\u001b[0;32m   1238\u001b[0m     \u001b[38;5;28;01mif\u001b[39;00m layer \u001b[38;5;241m:=\u001b[39m \u001b[38;5;28mself\u001b[39m\u001b[38;5;241m.\u001b[39mee_layers\u001b[38;5;241m.\u001b[39mget(layer_name, \u001b[38;5;28;01mNone\u001b[39;00m):\n",
      "File \u001b[1;32mc:\\Users\\craigparker\\Anaconda3\\Lib\\site-packages\\geemap\\map_widgets.py:81\u001b[0m, in \u001b[0;36mTheme.apply.<locals>.wrapper\u001b[1;34m(self, *args, **kwargs)\u001b[0m\n\u001b[0;32m     79\u001b[0m \u001b[38;5;129m@functools\u001b[39m\u001b[38;5;241m.\u001b[39mwraps(\u001b[38;5;28mcls\u001b[39m\u001b[38;5;241m.\u001b[39m\u001b[38;5;21m__init__\u001b[39m)\n\u001b[0;32m     80\u001b[0m \u001b[38;5;28;01mdef\u001b[39;00m \u001b[38;5;21mwrapper\u001b[39m(\u001b[38;5;28mself\u001b[39m, \u001b[38;5;241m*\u001b[39margs, \u001b[38;5;241m*\u001b[39m\u001b[38;5;241m*\u001b[39mkwargs):\n\u001b[1;32m---> 81\u001b[0m     original_init(\u001b[38;5;28mself\u001b[39m, \u001b[38;5;241m*\u001b[39margs, \u001b[38;5;241m*\u001b[39m\u001b[38;5;241m*\u001b[39mkwargs)\n\u001b[0;32m     82\u001b[0m     \u001b[38;5;28mself\u001b[39m\u001b[38;5;241m.\u001b[39madd_class(\u001b[38;5;124m\"\u001b[39m\u001b[38;5;124mgeemap-\u001b[39m\u001b[38;5;132;01m{}\u001b[39;00m\u001b[38;5;124m\"\u001b[39m\u001b[38;5;241m.\u001b[39mformat(Theme\u001b[38;5;241m.\u001b[39mcurrent_theme))\n",
      "File \u001b[1;32mc:\\Users\\craigparker\\Anaconda3\\Lib\\site-packages\\geemap\\map_widgets.py:199\u001b[0m, in \u001b[0;36mColorbar.__init__\u001b[1;34m(self, vis_params, cmap, discrete, label, orientation, transparent_bg, font_size, axis_off, max_width, **kwargs)\u001b[0m\n\u001b[0;32m    194\u001b[0m     \u001b[38;5;28;01mraise\u001b[39;00m \u001b[38;5;167;01mValueError\u001b[39;00m(\n\u001b[0;32m    195\u001b[0m         \u001b[38;5;124m'\u001b[39m\u001b[38;5;124mcmap keyword or \u001b[39m\u001b[38;5;124m\"\u001b[39m\u001b[38;5;124mpalette\u001b[39m\u001b[38;5;124m\"\u001b[39m\u001b[38;5;124m key in vis_params must be provided.\u001b[39m\u001b[38;5;124m'\u001b[39m\n\u001b[0;32m    196\u001b[0m     )\n\u001b[0;32m    198\u001b[0m fig, ax \u001b[38;5;241m=\u001b[39m matplotlib\u001b[38;5;241m.\u001b[39mpyplot\u001b[38;5;241m.\u001b[39msubplots(figsize\u001b[38;5;241m=\u001b[39m(width, height))\n\u001b[1;32m--> 199\u001b[0m cb \u001b[38;5;241m=\u001b[39m matplotlib\u001b[38;5;241m.\u001b[39mcolorbar\u001b[38;5;241m.\u001b[39mColorbarBase(\n\u001b[0;32m    200\u001b[0m     ax,\n\u001b[0;32m    201\u001b[0m     norm\u001b[38;5;241m=\u001b[39mnorm,\n\u001b[0;32m    202\u001b[0m     alpha\u001b[38;5;241m=\u001b[39malpha,\n\u001b[0;32m    203\u001b[0m     cmap\u001b[38;5;241m=\u001b[39mcmap,\n\u001b[0;32m    204\u001b[0m     orientation\u001b[38;5;241m=\u001b[39morientation,\n\u001b[0;32m    205\u001b[0m     \u001b[38;5;241m*\u001b[39m\u001b[38;5;241m*\u001b[39mkwargs,\n\u001b[0;32m    206\u001b[0m )\n\u001b[0;32m    208\u001b[0m label \u001b[38;5;241m=\u001b[39m label \u001b[38;5;129;01mor\u001b[39;00m vis_params\u001b[38;5;241m.\u001b[39mget(\u001b[38;5;124m\"\u001b[39m\u001b[38;5;124mbands\u001b[39m\u001b[38;5;124m\"\u001b[39m) \u001b[38;5;129;01mor\u001b[39;00m kwargs\u001b[38;5;241m.\u001b[39mpop(\u001b[38;5;124m\"\u001b[39m\u001b[38;5;124mcaption\u001b[39m\u001b[38;5;124m\"\u001b[39m, \u001b[38;5;28;01mNone\u001b[39;00m)\n\u001b[0;32m    209\u001b[0m \u001b[38;5;28;01mif\u001b[39;00m label:\n",
      "\u001b[1;31mTypeError\u001b[0m: Colorbar.__init__() got an unexpected keyword argument 'colors'"
     ]
    },
    {
     "data": {
      "image/png": "[encoded data removed]",
      "text/plain": [
       "<Figure size 300x30 with 1 Axes>"
      ]
     },
     "metadata": {},
     "output_type": "display_data"
    }
   ],
   "source": [
    "Map1 = create_lst_map(1990, 1999, 'Early Period')\n",
    "Map1"
   ]
  },
  {
   "cell_type": "markdown",
   "metadata": {},
   "source": [
    "## Mid Period (2000-2009)"
   ]
  },
  {
   "cell_type": "code",
   "execution_count": null,
   "metadata": {},
   "outputs": [],
   "source": [
    "Map2 = create_lst_map(2000, 2009, 'Mid Period')\n",
    "Map2"
   ]
  },
  {
   "cell_type": "markdown",
   "metadata": {},
   "source": [
    "## Recent Period (2014-2023)"
   ]
  },
  {
   "cell_type": "code",
   "execution_count": null,
   "metadata": {},
   "outputs": [],
   "source": [
    "Map3 = create_lst_map(2014, 2023, 'Recent Period')\n",
    "Map3"
   ]
  }
 ],
 "metadata": {
  "kernelspec": {
   "display_name": "base",
   "language": "python",
   "name": "python3"
  },
  "language_info": {
   "codemirror_mode": {
    "name": "ipython",
    "version": 3
   },
   "file_extension": ".py",
   "mimetype": "text/x-python",
   "name": "python",
   "nbconvert_exporter": "python",
   "pygments_lexer": "ipython3",
   "version": "3.11.7"
  }
 },
 "nbformat": 4,
 "nbformat_minor": 4
}
