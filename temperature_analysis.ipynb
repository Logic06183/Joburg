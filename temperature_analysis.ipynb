{
 "cells": [
  {
   "cell_type": "markdown",
   "metadata": {},
   "source": [
    "# Environmental Analysis Around Rahima Moosa Hospital\n",
    "This notebook analyzes Land Surface Temperature (LST) and vegetation patterns around Rahima Moosa Hospital using Earth Engine data."
   ]
  },
  {
   "cell_type": "code",
   "execution_count": null,
   "metadata": {},
   "source": [
    "import ee\n",
    "import geemap\n",
    "import numpy as np\n",
    "from datetime import datetime\n",
    "import matplotlib.pyplot as plt\n",
    "from tqdm.notebook import tqdm\n",
    "\n",
    "# Initialize Earth Engine\n",
    "try:\n",
    "    ee.Initialize()\n",
    "except Exception as e:\n",
    "    print(\"Error initializing Earth Engine. Please authenticate first.\")\n",
    "    print(\"Run 'earthengine authenticate' in your terminal.\")\n",
    "    raise e"
   ]
  },
  {
   "cell_type": "code",
   "execution_count": null,
   "metadata": {},
   "source": [
    "# Define constants\n",
    "HOSPITAL_LAT = -26.1752\n",
    "HOSPITAL_LON = 28.0183\n",
    "JOBURG_CENTER = ee.Geometry.Point([HOSPITAL_LON, HOSPITAL_LAT])\n",
    "BUFFER_DISTANCE = 5000  # 5km buffer\n",
    "JOBURG_AREA = JOBURG_CENTER.buffer(BUFFER_DISTANCE)"
   ]
  },
  {
   "cell_type": "code",
   "execution_count": null,
   "metadata": {},
   "source": [
    "def get_landsat_collection(start_year, end_year, months=[9,10,11,12,1,2]):\n",
    "    \"\"\"Get Landsat collection for the specified time period.\"\"\"\n",
    "    # Use Landsat 8 for recent/future and Landsat 5 for historical\n",
    "    if start_year >= 2013:\n",
    "        collection = ee.ImageCollection('LANDSAT/LC08/C02/T1_L2')\n",
    "        thermal_band = 'ST_B10'\n",
    "        mult = 0.00341802\n",
    "        add = 149.0\n",
    "    else:\n",
    "        collection = ee.ImageCollection('LANDSAT/LT05/C02/T1_L2')\n",
    "        thermal_band = 'ST_B6'\n",
    "        mult = 0.00341802\n",
    "        add = 149.0\n",
    "    \n",
    "    # Filter by date and area\n",
    "    filtered = collection.filterBounds(JOBURG_AREA) \\\n",
    "        .filter(ee.Filter.calendarRange(start_year, end_year, 'year')) \\\n",
    "        .filter(ee.Filter.calendarRange(months[0], months[-1], 'month'))\n",
    "    \n",
    "    return filtered, thermal_band, mult, add\n",
    "\n",
    "def calculate_lst(image, thermal_band, mult, add):\n",
    "    \"\"\"Calculate Land Surface Temperature.\"\"\"\n",
    "    # Convert thermal band to celsius\n",
    "    lst = image.select(thermal_band).multiply(mult).add(add).subtract(273.15)\n",
    "    return image.addBands(lst.rename('LST'))\n",
    "\n",
    "def calculate_ndvi(image):\n",
    "    \"\"\"Calculate NDVI.\"\"\"\n",
    "    ndvi = image.normalizedDifference(['SR_B5', 'SR_B4']).rename('NDVI')\n",
    "    return image.addBands(ndvi)"
   ]
  },
  {
   "cell_type": "markdown",
   "metadata": {},
   "source": [
    "## Historical Period (1980-1989)"
   ]
  },
  {
   "cell_type": "code",
   "execution_count": null,
   "metadata": {},
   "source": [
    "# Create historical map\n",
    "Map1 = geemap.Map(center=[HOSPITAL_LAT, HOSPITAL_LON], zoom=13)\n",
    "Map1.add_basemap('HYBRID')\n",
    "\n",
    "# Get historical data\n",
    "collection, thermal_band, mult, add = get_landsat_collection(1980, 1989)\n",
    "processed = collection.map(lambda img: calculate_lst(img, thermal_band, mult, add)) \\\n",
    "                      .map(calculate_ndvi)\n",
    "\n",
    "# Calculate mean LST and NDVI\n",
    "mean_lst = processed.select('LST').mean()\n",
    "mean_ndvi = processed.select('NDVI').mean()\n",
    "\n",
    "# Add layers\n",
    "Map1.addLayer(mean_lst, {'min': 25, 'max': 35, 'palette': ['blue', 'yellow', 'red']}, 'LST (1980-1989)')\n",
    "Map1.addLayer(mean_ndvi, {'min': -1, 'max': 1, 'palette': ['red', 'yellow', 'green']}, 'NDVI (1980-1989)')\n",
    "\n",
    "# Add hospital marker and buffer\n",
    "circle = ee.Geometry.Point([HOSPITAL_LON, HOSPITAL_LAT]).buffer(BUFFER_DISTANCE)\n",
    "Map1.addLayer(circle, {'color': 'red'}, '5km Buffer')\n",
    "hospital = ee.Geometry.Point([HOSPITAL_LON, HOSPITAL_LAT])\n",
    "Map1.addLayer(hospital, {'color': 'red'}, 'Rahima Moosa Hospital')\n",
    "\n",
    "Map1.add_layer_control()\n",
    "Map1"
   ]
  },
  {
   "cell_type": "markdown",
   "metadata": {},
   "source": [
    "## Current Period (2015-2024)"
   ]
  },
  {
   "cell_type": "code",
   "execution_count": null,
   "metadata": {},
   "source": [
    "# Create current map\n",
    "Map2 = geemap.Map(center=[HOSPITAL_LAT, HOSPITAL_LON], zoom=13)\n",
    "Map2.add_basemap('HYBRID')\n",
    "\n",
    "# Get current data\n",
    "collection, thermal_band, mult, add = get_landsat_collection(2015, 2024)\n",
    "processed = collection.map(lambda img: calculate_lst(img, thermal_band, mult, add)) \\\n",
    "                      .map(calculate_ndvi)\n",
    "\n",
    "# Calculate mean LST and NDVI\n",
    "mean_lst = processed.select('LST').mean()\n",
    "mean_ndvi = processed.select('NDVI').mean()\n",
    "\n",
    "# Add layers\n",
    "Map2.addLayer(mean_lst, {'min': 25, 'max': 35, 'palette': ['blue', 'yellow', 'red']}, 'LST (2015-2024)')\n",
    "Map2.addLayer(mean_ndvi, {'min': -1, 'max': 1, 'palette': ['red', 'yellow', 'green']}, 'NDVI (2015-2024)')\n",
    "\n",
    "# Add hospital marker and buffer\n",
    "circle = ee.Geometry.Point([HOSPITAL_LON, HOSPITAL_LAT]).buffer(BUFFER_DISTANCE)\n",
    "Map2.addLayer(circle, {'color': 'red'}, '5km Buffer')\n",
    "hospital = ee.Geometry.Point([HOSPITAL_LON, HOSPITAL_LAT])\n",
    "Map2.addLayer(hospital, {'color': 'red'}, 'Rahima Moosa Hospital')\n",
    "\n",
    "Map2.add_layer_control()\n",
    "Map2"
   ]
  },
  {
   "cell_type": "markdown",
   "metadata": {},
   "source": [
    "## Projected Period (2045-2055)"
   ]
  },
  {
   "cell_type": "code",
   "execution_count": null,
   "metadata": {},
   "source": [
    "# Create projected map\n",
    "Map3 = geemap.Map(center=[HOSPITAL_LAT, HOSPITAL_LON], zoom=13)\n",
    "Map3.add_basemap('HYBRID')\n",
    "\n",
    "# Get projected data\n",
    "collection, thermal_band, mult, add = get_landsat_collection(2045, 2055)\n",
    "processed = collection.map(lambda img: calculate_lst(img, thermal_band, mult, add)) \\\n",
    "                      .map(calculate_ndvi)\n",
    "\n",
    "# Calculate mean LST and NDVI\n",
    "mean_lst = processed.select('LST').mean()\n",
    "mean_ndvi = processed.select('NDVI').mean()\n",
    "\n",
    "# Add layers\n",
    "Map3.addLayer(mean_lst, {'min': 25, 'max': 35, 'palette': ['blue', 'yellow', 'red']}, 'LST (2045-2055)')\n",
    "Map3.addLayer(mean_ndvi, {'min': -1, 'max': 1, 'palette': ['red', 'yellow', 'green']}, 'NDVI (2045-2055)')\n",
    "\n",
    "# Add hospital marker and buffer\n",
    "circle = ee.Geometry.Point([HOSPITAL_LON, HOSPITAL_LAT]).buffer(BUFFER_DISTANCE)\n",
    "Map3.addLayer(circle, {'color': 'red'}, '5km Buffer')\n",
    "hospital = ee.Geometry.Point([HOSPITAL_LON, HOSPITAL_LAT])\n",
    "Map3.addLayer(hospital, {'color': 'red'}, 'Rahima Moosa Hospital')\n",
    "\n",
    "Map3.add_layer_control()\n",
    "Map3"
   ]
  }
 ],
 "metadata": {
  "kernelspec": {
   "display_name": "Python 3",
   "language": "python",
   "name": "python3"
  },
  "language_info": {
   "codemirror_mode": {
    "name": "ipython",
    "version": 3
   },
   "file_extension": ".py",
   "mimetype": "text/x-python",
   "name": "python",
   "nbconvert_exporter": "python",
   "pygments_lexer": "ipython3",
   "version": "3.8.0"
  }
 },
 "nbformat": 4,
 "nbformat_minor": 4
}
